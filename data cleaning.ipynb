{
 "cells": [
  {
   "cell_type": "markdown",
   "metadata": {},
   "source": [
    "# YouTube Trending Videos Analysis"
   ]
  },
  {
   "cell_type": "markdown",
   "metadata": {},
   "source": [
    "### Importing required libraries:"
   ]
  },
  {
   "cell_type": "code",
   "execution_count": 1,
   "metadata": {
    "execution": {
     "iopub.execute_input": "2022-02-03T20:22:09.866121Z",
     "iopub.status.busy": "2022-02-03T20:22:09.865556Z",
     "iopub.status.idle": "2022-02-03T20:22:12.498619Z",
     "shell.execute_reply": "2022-02-03T20:22:12.497983Z",
     "shell.execute_reply.started": "2022-02-03T20:22:09.866074Z"
    }
   },
   "outputs": [],
   "source": [
    "import pandas as pd\n",
    "import numpy as np\n",
    "import warnings\n",
    "import regex as re\n",
    "warnings.filterwarnings('ignore')#to filter all the warnings\n",
    "import seaborn as sns\n",
    "pd.set_option('float_format', '{:.4f}'.format)# to keep the float values short\n",
    "# Import for wordcloud\n",
    "from os import path\n",
    "from PIL import Image\n",
    "from wordcloud import WordCloud, STOPWORDS, ImageColorGenerator\n",
    "import matplotlib.pyplot as plt\n",
    "%matplotlib inline\n",
    "from nltk.corpus import stopwords\n",
    "from nltk.stem import PorterStemmer\n",
    "\n",
    "#import fot plotly\n",
    "import plotly.express as px"
   ]
  },
  {
   "cell_type": "markdown",
   "metadata": {},
   "source": [
    "## Dataset Description"
   ]
  },
  {
   "cell_type": "markdown",
   "metadata": {},
   "source": [
    "### YouTube Trending Statistics - Consists of updated daily records of top trending YouTube videos, based on viewership metrics such as likes, dislikes and views and provides interesting parameters such as tag or country for further analysis.\n",
    "\n",
    " \n"
   ]
  },
  {
   "cell_type": "markdown",
   "metadata": {},
   "source": [
    "### File type: csv\n",
    "<ol>\n",
    "    <li>video_id: Uniquely identifies each video</li>\n",
    "    <li>published_at: Date and Time of video published</li>\n",
    "    <li>categoryId: Id of category the video belongs to</li>\n",
    "    <li>trending_date: Date and time when the video got to Trending</li>\n",
    "    <li>view_count: Number of views (cumulative)</li>\n",
    "    <li>likes: Number of Likes(cumulative)</li>\n",
    "    <li>dislikes: Number of dislikes(cumulative)</li>\n",
    "    <li>comment_count: Number of comments(cumulative)</li>\n",
    "    <li>country: Country in which the video was trending</li>\n",
    "    <li>description: Description of video by the creator</li>\n",
    "    <li>tags: Tags of the video by the creator</li>\n",
    "    <li>title: Title of the video</li>\n",
    "    <li>channelTitle: Channel Title of the video</li>\n",
    "    <li>thumbnail_link:link for thumbnails</li>\n",
    "    <li>comments_disabled: boolean value that defines if viewer can comment</li>\n",
    "    <li>ratings_disabled: boolean value that defines if viewer can rate through likes and dislikes</li>\n",
    "    <li>channelId: uniquely defines the channel the video is coming from</li>\n",
    "</ol>\n",
    "\n",
    "### File type: json\n",
    "<ol>\n",
    "<li>id: Id of category the video belongs to</li>\n",
    "<li>name: Respective category names of category ids</li>  \n",
    "</ol>\n"
   ]
  },
  {
   "cell_type": "markdown",
   "metadata": {},
   "source": [
    "### Importing individual .csv file of USA, Great Britain, Canada from Home directory:"
   ]
  },
  {
   "cell_type": "code",
   "execution_count": 2,
   "metadata": {
    "execution": {
     "iopub.execute_input": "2022-02-03T20:22:12.50043Z",
     "iopub.status.busy": "2022-02-03T20:22:12.500003Z",
     "iopub.status.idle": "2022-02-03T20:22:16.168357Z",
     "shell.execute_reply": "2022-02-03T20:22:16.167456Z",
     "shell.execute_reply.started": "2022-02-03T20:22:12.500396Z"
    }
   },
   "outputs": [
    {
     "data": {
      "text/html": [
       "<div>\n",
       "<style scoped>\n",
       "    .dataframe tbody tr th:only-of-type {\n",
       "        vertical-align: middle;\n",
       "    }\n",
       "\n",
       "    .dataframe tbody tr th {\n",
       "        vertical-align: top;\n",
       "    }\n",
       "\n",
       "    .dataframe thead th {\n",
       "        text-align: right;\n",
       "    }\n",
       "</style>\n",
       "<table border=\"1\" class=\"dataframe\">\n",
       "  <thead>\n",
       "    <tr style=\"text-align: right;\">\n",
       "      <th></th>\n",
       "      <th>video_id</th>\n",
       "      <th>title</th>\n",
       "      <th>publishedAt</th>\n",
       "      <th>channelId</th>\n",
       "      <th>channelTitle</th>\n",
       "      <th>categoryId</th>\n",
       "      <th>trending_date</th>\n",
       "      <th>tags</th>\n",
       "      <th>view_count</th>\n",
       "      <th>likes</th>\n",
       "      <th>dislikes</th>\n",
       "      <th>comment_count</th>\n",
       "      <th>thumbnail_link</th>\n",
       "      <th>comments_disabled</th>\n",
       "      <th>ratings_disabled</th>\n",
       "      <th>description</th>\n",
       "    </tr>\n",
       "  </thead>\n",
       "  <tbody>\n",
       "    <tr>\n",
       "      <th>0</th>\n",
       "      <td>3C66w5Z0ixs</td>\n",
       "      <td>I ASKED HER TO BE MY GIRLFRIEND...</td>\n",
       "      <td>2020-08-11T19:20:14Z</td>\n",
       "      <td>UCvtRTOMP2TqYqu51xNrqAzg</td>\n",
       "      <td>Brawadis</td>\n",
       "      <td>22</td>\n",
       "      <td>2020-08-12T00:00:00Z</td>\n",
       "      <td>brawadis|prank|basketball|skits|ghost|funny vi...</td>\n",
       "      <td>1514614</td>\n",
       "      <td>156908</td>\n",
       "      <td>5855</td>\n",
       "      <td>35313</td>\n",
       "      <td>https://i.ytimg.com/vi/3C66w5Z0ixs/default.jpg</td>\n",
       "      <td>False</td>\n",
       "      <td>False</td>\n",
       "      <td>SUBSCRIBE to BRAWADIS ▶ http://bit.ly/Subscrib...</td>\n",
       "    </tr>\n",
       "  </tbody>\n",
       "</table>\n",
       "</div>"
      ],
      "text/plain": [
       "      video_id                               title           publishedAt  \\\n",
       "0  3C66w5Z0ixs  I ASKED HER TO BE MY GIRLFRIEND...  2020-08-11T19:20:14Z   \n",
       "\n",
       "                  channelId channelTitle  categoryId         trending_date  \\\n",
       "0  UCvtRTOMP2TqYqu51xNrqAzg     Brawadis          22  2020-08-12T00:00:00Z   \n",
       "\n",
       "                                                tags  view_count   likes  \\\n",
       "0  brawadis|prank|basketball|skits|ghost|funny vi...     1514614  156908   \n",
       "\n",
       "   dislikes  comment_count                                  thumbnail_link  \\\n",
       "0      5855          35313  https://i.ytimg.com/vi/3C66w5Z0ixs/default.jpg   \n",
       "\n",
       "   comments_disabled  ratings_disabled  \\\n",
       "0              False             False   \n",
       "\n",
       "                                         description  \n",
       "0  SUBSCRIBE to BRAWADIS ▶ http://bit.ly/Subscrib...  "
      ]
     },
     "execution_count": 2,
     "metadata": {},
     "output_type": "execute_result"
    }
   ],
   "source": [
    "\n",
    "US_Videos_df = pd.read_csv(r'US_youtube_trending_data.csv')\n",
    "US_Videos_df.head(1)"
   ]
  },
  {
   "cell_type": "code",
   "execution_count": 3,
   "metadata": {
    "execution": {
     "iopub.execute_input": "2022-02-03T20:22:16.170443Z",
     "iopub.status.busy": "2022-02-03T20:22:16.169558Z",
     "iopub.status.idle": "2022-02-03T20:22:19.539729Z",
     "shell.execute_reply": "2022-02-03T20:22:19.538909Z",
     "shell.execute_reply.started": "2022-02-03T20:22:16.170399Z"
    }
   },
   "outputs": [
    {
     "data": {
      "text/html": [
       "<div>\n",
       "<style scoped>\n",
       "    .dataframe tbody tr th:only-of-type {\n",
       "        vertical-align: middle;\n",
       "    }\n",
       "\n",
       "    .dataframe tbody tr th {\n",
       "        vertical-align: top;\n",
       "    }\n",
       "\n",
       "    .dataframe thead th {\n",
       "        text-align: right;\n",
       "    }\n",
       "</style>\n",
       "<table border=\"1\" class=\"dataframe\">\n",
       "  <thead>\n",
       "    <tr style=\"text-align: right;\">\n",
       "      <th></th>\n",
       "      <th>video_id</th>\n",
       "      <th>title</th>\n",
       "      <th>publishedAt</th>\n",
       "      <th>channelId</th>\n",
       "      <th>channelTitle</th>\n",
       "      <th>categoryId</th>\n",
       "      <th>trending_date</th>\n",
       "      <th>tags</th>\n",
       "      <th>view_count</th>\n",
       "      <th>likes</th>\n",
       "      <th>dislikes</th>\n",
       "      <th>comment_count</th>\n",
       "      <th>thumbnail_link</th>\n",
       "      <th>comments_disabled</th>\n",
       "      <th>ratings_disabled</th>\n",
       "      <th>description</th>\n",
       "    </tr>\n",
       "  </thead>\n",
       "  <tbody>\n",
       "    <tr>\n",
       "      <th>0</th>\n",
       "      <td>KX06ksuS6Xo</td>\n",
       "      <td>Diljit Dosanjh: CLASH (Official) Music Video |...</td>\n",
       "      <td>2020-08-11T07:30:02Z</td>\n",
       "      <td>UCZRdNleCgW-BGUJf-bbjzQg</td>\n",
       "      <td>Diljit Dosanjh</td>\n",
       "      <td>10</td>\n",
       "      <td>2020-08-12T00:00:00Z</td>\n",
       "      <td>clash diljit dosanjh|diljit dosanjh|diljit dos...</td>\n",
       "      <td>9140911</td>\n",
       "      <td>296541</td>\n",
       "      <td>6180</td>\n",
       "      <td>30059</td>\n",
       "      <td>https://i.ytimg.com/vi/KX06ksuS6Xo/default.jpg</td>\n",
       "      <td>False</td>\n",
       "      <td>False</td>\n",
       "      <td>CLASH official music video performed by DILJIT...</td>\n",
       "    </tr>\n",
       "  </tbody>\n",
       "</table>\n",
       "</div>"
      ],
      "text/plain": [
       "      video_id                                              title  \\\n",
       "0  KX06ksuS6Xo  Diljit Dosanjh: CLASH (Official) Music Video |...   \n",
       "\n",
       "            publishedAt                 channelId    channelTitle  categoryId  \\\n",
       "0  2020-08-11T07:30:02Z  UCZRdNleCgW-BGUJf-bbjzQg  Diljit Dosanjh          10   \n",
       "\n",
       "          trending_date                                               tags  \\\n",
       "0  2020-08-12T00:00:00Z  clash diljit dosanjh|diljit dosanjh|diljit dos...   \n",
       "\n",
       "   view_count   likes  dislikes  comment_count  \\\n",
       "0     9140911  296541      6180          30059   \n",
       "\n",
       "                                   thumbnail_link  comments_disabled  \\\n",
       "0  https://i.ytimg.com/vi/KX06ksuS6Xo/default.jpg              False   \n",
       "\n",
       "   ratings_disabled                                        description  \n",
       "0             False  CLASH official music video performed by DILJIT...  "
      ]
     },
     "execution_count": 3,
     "metadata": {},
     "output_type": "execute_result"
    }
   ],
   "source": [
    "CA_Videos_df = pd.read_csv(r'CA_youtube_trending_data.csv')\n",
    "CA_Videos_df.head(1)"
   ]
  },
  {
   "cell_type": "code",
   "execution_count": 4,
   "metadata": {
    "execution": {
     "iopub.execute_input": "2022-02-03T20:22:19.541935Z",
     "iopub.status.busy": "2022-02-03T20:22:19.541718Z",
     "iopub.status.idle": "2022-02-03T20:22:22.813417Z",
     "shell.execute_reply": "2022-02-03T20:22:22.812516Z",
     "shell.execute_reply.started": "2022-02-03T20:22:19.54191Z"
    }
   },
   "outputs": [
    {
     "data": {
      "text/html": [
       "<div>\n",
       "<style scoped>\n",
       "    .dataframe tbody tr th:only-of-type {\n",
       "        vertical-align: middle;\n",
       "    }\n",
       "\n",
       "    .dataframe tbody tr th {\n",
       "        vertical-align: top;\n",
       "    }\n",
       "\n",
       "    .dataframe thead th {\n",
       "        text-align: right;\n",
       "    }\n",
       "</style>\n",
       "<table border=\"1\" class=\"dataframe\">\n",
       "  <thead>\n",
       "    <tr style=\"text-align: right;\">\n",
       "      <th></th>\n",
       "      <th>video_id</th>\n",
       "      <th>title</th>\n",
       "      <th>publishedAt</th>\n",
       "      <th>channelId</th>\n",
       "      <th>channelTitle</th>\n",
       "      <th>categoryId</th>\n",
       "      <th>trending_date</th>\n",
       "      <th>tags</th>\n",
       "      <th>view_count</th>\n",
       "      <th>likes</th>\n",
       "      <th>dislikes</th>\n",
       "      <th>comment_count</th>\n",
       "      <th>thumbnail_link</th>\n",
       "      <th>comments_disabled</th>\n",
       "      <th>ratings_disabled</th>\n",
       "      <th>description</th>\n",
       "    </tr>\n",
       "  </thead>\n",
       "  <tbody>\n",
       "    <tr>\n",
       "      <th>0</th>\n",
       "      <td>J78aPJ3VyNs</td>\n",
       "      <td>I left youtube for a month and THIS is what ha...</td>\n",
       "      <td>2020-08-11T16:34:06Z</td>\n",
       "      <td>UCYzPXprvl5Y-Sf0g4vX-m6g</td>\n",
       "      <td>jacksepticeye</td>\n",
       "      <td>24</td>\n",
       "      <td>2020-08-12T00:00:00Z</td>\n",
       "      <td>jacksepticeye|funny|funny meme|memes|jacksepti...</td>\n",
       "      <td>2038853</td>\n",
       "      <td>353790</td>\n",
       "      <td>2628</td>\n",
       "      <td>40228</td>\n",
       "      <td>https://i.ytimg.com/vi/J78aPJ3VyNs/default.jpg</td>\n",
       "      <td>False</td>\n",
       "      <td>False</td>\n",
       "      <td>I left youtube for a month and this is what ha...</td>\n",
       "    </tr>\n",
       "  </tbody>\n",
       "</table>\n",
       "</div>"
      ],
      "text/plain": [
       "      video_id                                              title  \\\n",
       "0  J78aPJ3VyNs  I left youtube for a month and THIS is what ha...   \n",
       "\n",
       "            publishedAt                 channelId   channelTitle  categoryId  \\\n",
       "0  2020-08-11T16:34:06Z  UCYzPXprvl5Y-Sf0g4vX-m6g  jacksepticeye          24   \n",
       "\n",
       "          trending_date                                               tags  \\\n",
       "0  2020-08-12T00:00:00Z  jacksepticeye|funny|funny meme|memes|jacksepti...   \n",
       "\n",
       "   view_count   likes  dislikes  comment_count  \\\n",
       "0     2038853  353790      2628          40228   \n",
       "\n",
       "                                   thumbnail_link  comments_disabled  \\\n",
       "0  https://i.ytimg.com/vi/J78aPJ3VyNs/default.jpg              False   \n",
       "\n",
       "   ratings_disabled                                        description  \n",
       "0             False  I left youtube for a month and this is what ha...  "
      ]
     },
     "execution_count": 4,
     "metadata": {},
     "output_type": "execute_result"
    }
   ],
   "source": [
    "GB_Videos_df = pd.read_csv(r'GB_youtube_trending_data.csv')\n",
    "GB_Videos_df.head(1)"
   ]
  },
  {
   "cell_type": "markdown",
   "metadata": {},
   "source": [
    "### Finding the shape of these 3 dataframes"
   ]
  },
  {
   "cell_type": "code",
   "execution_count": 5,
   "metadata": {
    "execution": {
     "iopub.execute_input": "2022-02-03T20:22:22.815514Z",
     "iopub.status.busy": "2022-02-03T20:22:22.81471Z",
     "iopub.status.idle": "2022-02-03T20:22:22.820231Z",
     "shell.execute_reply": "2022-02-03T20:22:22.819507Z",
     "shell.execute_reply.started": "2022-02-03T20:22:22.815474Z"
    }
   },
   "outputs": [
    {
     "name": "stdout",
     "output_type": "stream",
     "text": [
      "Shape of GB File: (133994, 16)\n",
      "Shape of CA File: (133943, 16)\n",
      "Shape of US File: (133990, 16)\n"
     ]
    }
   ],
   "source": [
    "print('Shape of GB File: '+ str(GB_Videos_df.shape))\n",
    "print('Shape of CA File: '+ str(CA_Videos_df.shape))\n",
    "print('Shape of US File: '+ str(US_Videos_df.shape))"
   ]
  },
  {
   "cell_type": "markdown",
   "metadata": {},
   "source": [
    "### Opening JSON file and loading the required data to match categoryId to its respective category name:\n",
    "\n",
    "The dataset we downloaded from Kaggle has two types of files for each country, one is 'video.csv' which contains all the features described before, and the other is 'category.json' which contains mapping for category id to category names.\n",
    "\n",
    "To merge this information together, we did the following steps:\n",
    "\n",
    "**1. Load JSON File for each country**"
   ]
  },
  {
   "cell_type": "code",
   "execution_count": 6,
   "metadata": {
    "execution": {
     "iopub.execute_input": "2022-02-03T20:22:22.821589Z",
     "iopub.status.busy": "2022-02-03T20:22:22.821303Z",
     "iopub.status.idle": "2022-02-03T20:22:22.837296Z",
     "shell.execute_reply": "2022-02-03T20:22:22.836385Z",
     "shell.execute_reply.started": "2022-02-03T20:22:22.82156Z"
    }
   },
   "outputs": [],
   "source": [
    "import json #import data using python json module\n",
    "with open(r'US_category_id.json','r') as f:\n",
    "    category_data_us= json.loads(f.read())"
   ]
  },
  {
   "cell_type": "code",
   "execution_count": 7,
   "metadata": {
    "execution": {
     "iopub.execute_input": "2022-02-03T20:22:22.838848Z",
     "iopub.status.busy": "2022-02-03T20:22:22.838523Z",
     "iopub.status.idle": "2022-02-03T20:22:22.84738Z",
     "shell.execute_reply": "2022-02-03T20:22:22.846632Z",
     "shell.execute_reply.started": "2022-02-03T20:22:22.838804Z"
    }
   },
   "outputs": [],
   "source": [
    "with open(r'CA_category_id.json','r') as f:\n",
    "    category_data_ca= json.loads(f.read())"
   ]
  },
  {
   "cell_type": "code",
   "execution_count": 8,
   "metadata": {
    "execution": {
     "iopub.execute_input": "2022-02-03T20:22:22.848602Z",
     "iopub.status.busy": "2022-02-03T20:22:22.84839Z",
     "iopub.status.idle": "2022-02-03T20:22:22.856283Z",
     "shell.execute_reply": "2022-02-03T20:22:22.85554Z",
     "shell.execute_reply.started": "2022-02-03T20:22:22.848576Z"
    }
   },
   "outputs": [],
   "source": [
    "with open(r'GB_category_id.json','r') as f:\n",
    "    category_data_gb= json.loads(f.read())"
   ]
  },
  {
   "cell_type": "markdown",
   "metadata": {},
   "source": [
    "**2. Since JSON file was in nested format we used json normalize function from pandas to flatten it and read into data frame**\n",
    "\n"
   ]
  },
  {
   "cell_type": "code",
   "execution_count": 9,
   "metadata": {
    "execution": {
     "iopub.execute_input": "2022-02-03T20:22:22.858238Z",
     "iopub.status.busy": "2022-02-03T20:22:22.857807Z",
     "iopub.status.idle": "2022-02-03T20:22:22.869706Z",
     "shell.execute_reply": "2022-02-03T20:22:22.868993Z",
     "shell.execute_reply.started": "2022-02-03T20:22:22.858196Z"
    }
   },
   "outputs": [
    {
     "data": {
      "text/html": [
       "<div>\n",
       "<style scoped>\n",
       "    .dataframe tbody tr th:only-of-type {\n",
       "        vertical-align: middle;\n",
       "    }\n",
       "\n",
       "    .dataframe tbody tr th {\n",
       "        vertical-align: top;\n",
       "    }\n",
       "\n",
       "    .dataframe thead th {\n",
       "        text-align: right;\n",
       "    }\n",
       "</style>\n",
       "<table border=\"1\" class=\"dataframe\">\n",
       "  <thead>\n",
       "    <tr style=\"text-align: right;\">\n",
       "      <th></th>\n",
       "      <th>kind</th>\n",
       "      <th>etag</th>\n",
       "      <th>id</th>\n",
       "      <th>snippet.title</th>\n",
       "      <th>snippet.assignable</th>\n",
       "      <th>snippet.channelId</th>\n",
       "    </tr>\n",
       "  </thead>\n",
       "  <tbody>\n",
       "    <tr>\n",
       "      <th>0</th>\n",
       "      <td>youtube#videoCategory</td>\n",
       "      <td>IfWa37JGcqZs-jZeAyFGkbeh6bc</td>\n",
       "      <td>1</td>\n",
       "      <td>Film &amp; Animation</td>\n",
       "      <td>True</td>\n",
       "      <td>UCBR8-60-B28hp2BmDPdntcQ</td>\n",
       "    </tr>\n",
       "    <tr>\n",
       "      <th>1</th>\n",
       "      <td>youtube#videoCategory</td>\n",
       "      <td>5XGylIs7zkjHh5940dsT5862m1Y</td>\n",
       "      <td>2</td>\n",
       "      <td>Autos &amp; Vehicles</td>\n",
       "      <td>True</td>\n",
       "      <td>UCBR8-60-B28hp2BmDPdntcQ</td>\n",
       "    </tr>\n",
       "    <tr>\n",
       "      <th>2</th>\n",
       "      <td>youtube#videoCategory</td>\n",
       "      <td>HCjFMARbBeWjpm6PDfReCOMOZGA</td>\n",
       "      <td>10</td>\n",
       "      <td>Music</td>\n",
       "      <td>True</td>\n",
       "      <td>UCBR8-60-B28hp2BmDPdntcQ</td>\n",
       "    </tr>\n",
       "    <tr>\n",
       "      <th>3</th>\n",
       "      <td>youtube#videoCategory</td>\n",
       "      <td>ra8H7xyAfmE2FewsDabE3TUSq10</td>\n",
       "      <td>15</td>\n",
       "      <td>Pets &amp; Animals</td>\n",
       "      <td>True</td>\n",
       "      <td>UCBR8-60-B28hp2BmDPdntcQ</td>\n",
       "    </tr>\n",
       "    <tr>\n",
       "      <th>4</th>\n",
       "      <td>youtube#videoCategory</td>\n",
       "      <td>7mqChSJogdF3hSIL-88BfDE-W8M</td>\n",
       "      <td>17</td>\n",
       "      <td>Sports</td>\n",
       "      <td>True</td>\n",
       "      <td>UCBR8-60-B28hp2BmDPdntcQ</td>\n",
       "    </tr>\n",
       "    <tr>\n",
       "      <th>5</th>\n",
       "      <td>youtube#videoCategory</td>\n",
       "      <td>0Z6uGkj97NgjD-X3pkA-nL18Hqk</td>\n",
       "      <td>18</td>\n",
       "      <td>Short Movies</td>\n",
       "      <td>False</td>\n",
       "      <td>UCBR8-60-B28hp2BmDPdntcQ</td>\n",
       "    </tr>\n",
       "    <tr>\n",
       "      <th>6</th>\n",
       "      <td>youtube#videoCategory</td>\n",
       "      <td>K_-7stg0kIU7eUBOPUa6j5fqIMQ</td>\n",
       "      <td>19</td>\n",
       "      <td>Travel &amp; Events</td>\n",
       "      <td>True</td>\n",
       "      <td>UCBR8-60-B28hp2BmDPdntcQ</td>\n",
       "    </tr>\n",
       "    <tr>\n",
       "      <th>7</th>\n",
       "      <td>youtube#videoCategory</td>\n",
       "      <td>I3IL9xGIM3MsULlqR4tvCsEKv98</td>\n",
       "      <td>20</td>\n",
       "      <td>Gaming</td>\n",
       "      <td>True</td>\n",
       "      <td>UCBR8-60-B28hp2BmDPdntcQ</td>\n",
       "    </tr>\n",
       "    <tr>\n",
       "      <th>8</th>\n",
       "      <td>youtube#videoCategory</td>\n",
       "      <td>D1W6tq5mMMCV0wtNxf9A6g9wWjU</td>\n",
       "      <td>21</td>\n",
       "      <td>Videoblogging</td>\n",
       "      <td>False</td>\n",
       "      <td>UCBR8-60-B28hp2BmDPdntcQ</td>\n",
       "    </tr>\n",
       "    <tr>\n",
       "      <th>9</th>\n",
       "      <td>youtube#videoCategory</td>\n",
       "      <td>QMEBz6mxVdklVaq8JwesPEw_4nI</td>\n",
       "      <td>22</td>\n",
       "      <td>People &amp; Blogs</td>\n",
       "      <td>True</td>\n",
       "      <td>UCBR8-60-B28hp2BmDPdntcQ</td>\n",
       "    </tr>\n",
       "    <tr>\n",
       "      <th>10</th>\n",
       "      <td>youtube#videoCategory</td>\n",
       "      <td>v2n6q4JttoL4uUbazrcxNQRGPZk</td>\n",
       "      <td>23</td>\n",
       "      <td>Comedy</td>\n",
       "      <td>True</td>\n",
       "      <td>UCBR8-60-B28hp2BmDPdntcQ</td>\n",
       "    </tr>\n",
       "    <tr>\n",
       "      <th>11</th>\n",
       "      <td>youtube#videoCategory</td>\n",
       "      <td>Qi1csjh-POReitZEbR7CUw7dmao</td>\n",
       "      <td>24</td>\n",
       "      <td>Entertainment</td>\n",
       "      <td>True</td>\n",
       "      <td>UCBR8-60-B28hp2BmDPdntcQ</td>\n",
       "    </tr>\n",
       "    <tr>\n",
       "      <th>12</th>\n",
       "      <td>youtube#videoCategory</td>\n",
       "      <td>IbGXblQi8v_nOsXjirhul1NVcH8</td>\n",
       "      <td>25</td>\n",
       "      <td>News &amp; Politics</td>\n",
       "      <td>True</td>\n",
       "      <td>UCBR8-60-B28hp2BmDPdntcQ</td>\n",
       "    </tr>\n",
       "    <tr>\n",
       "      <th>13</th>\n",
       "      <td>youtube#videoCategory</td>\n",
       "      <td>gYzt8dB8mlod-84ipMtjynYe9xU</td>\n",
       "      <td>26</td>\n",
       "      <td>Howto &amp; Style</td>\n",
       "      <td>True</td>\n",
       "      <td>UCBR8-60-B28hp2BmDPdntcQ</td>\n",
       "    </tr>\n",
       "    <tr>\n",
       "      <th>14</th>\n",
       "      <td>youtube#videoCategory</td>\n",
       "      <td>hHUhloYhyMMqVkQ4LH9sr3aRQoU</td>\n",
       "      <td>27</td>\n",
       "      <td>Education</td>\n",
       "      <td>True</td>\n",
       "      <td>UCBR8-60-B28hp2BmDPdntcQ</td>\n",
       "    </tr>\n",
       "    <tr>\n",
       "      <th>15</th>\n",
       "      <td>youtube#videoCategory</td>\n",
       "      <td>KEdEtUd4WGk_aACrYI03UhGE33w</td>\n",
       "      <td>28</td>\n",
       "      <td>Science &amp; Technology</td>\n",
       "      <td>True</td>\n",
       "      <td>UCBR8-60-B28hp2BmDPdntcQ</td>\n",
       "    </tr>\n",
       "    <tr>\n",
       "      <th>16</th>\n",
       "      <td>youtube#videoCategory</td>\n",
       "      <td>AioSVwhKNpZ2bhtw9SJmrkfY5-I</td>\n",
       "      <td>29</td>\n",
       "      <td>Nonprofits &amp; Activism</td>\n",
       "      <td>True</td>\n",
       "      <td>UCBR8-60-B28hp2BmDPdntcQ</td>\n",
       "    </tr>\n",
       "    <tr>\n",
       "      <th>17</th>\n",
       "      <td>youtube#videoCategory</td>\n",
       "      <td>tMfbFvkfuPP8YnUEqpr0gcR6aWU</td>\n",
       "      <td>30</td>\n",
       "      <td>Movies</td>\n",
       "      <td>False</td>\n",
       "      <td>UCBR8-60-B28hp2BmDPdntcQ</td>\n",
       "    </tr>\n",
       "    <tr>\n",
       "      <th>18</th>\n",
       "      <td>youtube#videoCategory</td>\n",
       "      <td>totPMF_82XTvVFy0ExFgoKhTklM</td>\n",
       "      <td>31</td>\n",
       "      <td>Anime/Animation</td>\n",
       "      <td>False</td>\n",
       "      <td>UCBR8-60-B28hp2BmDPdntcQ</td>\n",
       "    </tr>\n",
       "    <tr>\n",
       "      <th>19</th>\n",
       "      <td>youtube#videoCategory</td>\n",
       "      <td>LNgRKNynxC50MeYV9e6XLPX9JC4</td>\n",
       "      <td>32</td>\n",
       "      <td>Action/Adventure</td>\n",
       "      <td>False</td>\n",
       "      <td>UCBR8-60-B28hp2BmDPdntcQ</td>\n",
       "    </tr>\n",
       "    <tr>\n",
       "      <th>20</th>\n",
       "      <td>youtube#videoCategory</td>\n",
       "      <td>harT7v7A6516SPdkqp81Xy5yfBw</td>\n",
       "      <td>33</td>\n",
       "      <td>Classics</td>\n",
       "      <td>False</td>\n",
       "      <td>UCBR8-60-B28hp2BmDPdntcQ</td>\n",
       "    </tr>\n",
       "    <tr>\n",
       "      <th>21</th>\n",
       "      <td>youtube#videoCategory</td>\n",
       "      <td>M6Y5Av0CP45r5GgpzamLfHj41y4</td>\n",
       "      <td>34</td>\n",
       "      <td>Comedy</td>\n",
       "      <td>False</td>\n",
       "      <td>UCBR8-60-B28hp2BmDPdntcQ</td>\n",
       "    </tr>\n",
       "    <tr>\n",
       "      <th>22</th>\n",
       "      <td>youtube#videoCategory</td>\n",
       "      <td>ZFbZGeeLYWolvmCLQM7m8Yio104</td>\n",
       "      <td>35</td>\n",
       "      <td>Documentary</td>\n",
       "      <td>False</td>\n",
       "      <td>UCBR8-60-B28hp2BmDPdntcQ</td>\n",
       "    </tr>\n",
       "    <tr>\n",
       "      <th>23</th>\n",
       "      <td>youtube#videoCategory</td>\n",
       "      <td>FD7naICnxxl8HOnZZJAzrWplzuU</td>\n",
       "      <td>36</td>\n",
       "      <td>Drama</td>\n",
       "      <td>False</td>\n",
       "      <td>UCBR8-60-B28hp2BmDPdntcQ</td>\n",
       "    </tr>\n",
       "    <tr>\n",
       "      <th>24</th>\n",
       "      <td>youtube#videoCategory</td>\n",
       "      <td>7fvdoCRRWE89SpB5UaOY8gGdbk0</td>\n",
       "      <td>37</td>\n",
       "      <td>Family</td>\n",
       "      <td>False</td>\n",
       "      <td>UCBR8-60-B28hp2BmDPdntcQ</td>\n",
       "    </tr>\n",
       "    <tr>\n",
       "      <th>25</th>\n",
       "      <td>youtube#videoCategory</td>\n",
       "      <td>H6d6HrYDy3EAVAxQR8Z-ShEva1k</td>\n",
       "      <td>38</td>\n",
       "      <td>Foreign</td>\n",
       "      <td>False</td>\n",
       "      <td>UCBR8-60-B28hp2BmDPdntcQ</td>\n",
       "    </tr>\n",
       "    <tr>\n",
       "      <th>26</th>\n",
       "      <td>youtube#videoCategory</td>\n",
       "      <td>Z3yra5IR8n2bkjvv3ZheAOQ-tUk</td>\n",
       "      <td>39</td>\n",
       "      <td>Horror</td>\n",
       "      <td>False</td>\n",
       "      <td>UCBR8-60-B28hp2BmDPdntcQ</td>\n",
       "    </tr>\n",
       "    <tr>\n",
       "      <th>27</th>\n",
       "      <td>youtube#videoCategory</td>\n",
       "      <td>3F8eda4xnGzGFmlpsFaf5_YpOgU</td>\n",
       "      <td>40</td>\n",
       "      <td>Sci-Fi/Fantasy</td>\n",
       "      <td>False</td>\n",
       "      <td>UCBR8-60-B28hp2BmDPdntcQ</td>\n",
       "    </tr>\n",
       "    <tr>\n",
       "      <th>28</th>\n",
       "      <td>youtube#videoCategory</td>\n",
       "      <td>HwuNLGhBJ4PZCEurr-SoqvHuKx8</td>\n",
       "      <td>41</td>\n",
       "      <td>Thriller</td>\n",
       "      <td>False</td>\n",
       "      <td>UCBR8-60-B28hp2BmDPdntcQ</td>\n",
       "    </tr>\n",
       "    <tr>\n",
       "      <th>29</th>\n",
       "      <td>youtube#videoCategory</td>\n",
       "      <td>qJ2eDOZWUDj8fbFYAIG_yzPCYRc</td>\n",
       "      <td>42</td>\n",
       "      <td>Shorts</td>\n",
       "      <td>False</td>\n",
       "      <td>UCBR8-60-B28hp2BmDPdntcQ</td>\n",
       "    </tr>\n",
       "    <tr>\n",
       "      <th>30</th>\n",
       "      <td>youtube#videoCategory</td>\n",
       "      <td>2sKmjip5q7FHJgqkHvnpMDgmddE</td>\n",
       "      <td>43</td>\n",
       "      <td>Shows</td>\n",
       "      <td>False</td>\n",
       "      <td>UCBR8-60-B28hp2BmDPdntcQ</td>\n",
       "    </tr>\n",
       "    <tr>\n",
       "      <th>31</th>\n",
       "      <td>youtube#videoCategory</td>\n",
       "      <td>3IaZjRK8JeIkLMfRDX57P4FFb9A</td>\n",
       "      <td>44</td>\n",
       "      <td>Trailers</td>\n",
       "      <td>False</td>\n",
       "      <td>UCBR8-60-B28hp2BmDPdntcQ</td>\n",
       "    </tr>\n",
       "  </tbody>\n",
       "</table>\n",
       "</div>"
      ],
      "text/plain": [
       "                     kind                         etag  id  \\\n",
       "0   youtube#videoCategory  IfWa37JGcqZs-jZeAyFGkbeh6bc   1   \n",
       "1   youtube#videoCategory  5XGylIs7zkjHh5940dsT5862m1Y   2   \n",
       "2   youtube#videoCategory  HCjFMARbBeWjpm6PDfReCOMOZGA  10   \n",
       "3   youtube#videoCategory  ra8H7xyAfmE2FewsDabE3TUSq10  15   \n",
       "4   youtube#videoCategory  7mqChSJogdF3hSIL-88BfDE-W8M  17   \n",
       "5   youtube#videoCategory  0Z6uGkj97NgjD-X3pkA-nL18Hqk  18   \n",
       "6   youtube#videoCategory  K_-7stg0kIU7eUBOPUa6j5fqIMQ  19   \n",
       "7   youtube#videoCategory  I3IL9xGIM3MsULlqR4tvCsEKv98  20   \n",
       "8   youtube#videoCategory  D1W6tq5mMMCV0wtNxf9A6g9wWjU  21   \n",
       "9   youtube#videoCategory  QMEBz6mxVdklVaq8JwesPEw_4nI  22   \n",
       "10  youtube#videoCategory  v2n6q4JttoL4uUbazrcxNQRGPZk  23   \n",
       "11  youtube#videoCategory  Qi1csjh-POReitZEbR7CUw7dmao  24   \n",
       "12  youtube#videoCategory  IbGXblQi8v_nOsXjirhul1NVcH8  25   \n",
       "13  youtube#videoCategory  gYzt8dB8mlod-84ipMtjynYe9xU  26   \n",
       "14  youtube#videoCategory  hHUhloYhyMMqVkQ4LH9sr3aRQoU  27   \n",
       "15  youtube#videoCategory  KEdEtUd4WGk_aACrYI03UhGE33w  28   \n",
       "16  youtube#videoCategory  AioSVwhKNpZ2bhtw9SJmrkfY5-I  29   \n",
       "17  youtube#videoCategory  tMfbFvkfuPP8YnUEqpr0gcR6aWU  30   \n",
       "18  youtube#videoCategory  totPMF_82XTvVFy0ExFgoKhTklM  31   \n",
       "19  youtube#videoCategory  LNgRKNynxC50MeYV9e6XLPX9JC4  32   \n",
       "20  youtube#videoCategory  harT7v7A6516SPdkqp81Xy5yfBw  33   \n",
       "21  youtube#videoCategory  M6Y5Av0CP45r5GgpzamLfHj41y4  34   \n",
       "22  youtube#videoCategory  ZFbZGeeLYWolvmCLQM7m8Yio104  35   \n",
       "23  youtube#videoCategory  FD7naICnxxl8HOnZZJAzrWplzuU  36   \n",
       "24  youtube#videoCategory  7fvdoCRRWE89SpB5UaOY8gGdbk0  37   \n",
       "25  youtube#videoCategory  H6d6HrYDy3EAVAxQR8Z-ShEva1k  38   \n",
       "26  youtube#videoCategory  Z3yra5IR8n2bkjvv3ZheAOQ-tUk  39   \n",
       "27  youtube#videoCategory  3F8eda4xnGzGFmlpsFaf5_YpOgU  40   \n",
       "28  youtube#videoCategory  HwuNLGhBJ4PZCEurr-SoqvHuKx8  41   \n",
       "29  youtube#videoCategory  qJ2eDOZWUDj8fbFYAIG_yzPCYRc  42   \n",
       "30  youtube#videoCategory  2sKmjip5q7FHJgqkHvnpMDgmddE  43   \n",
       "31  youtube#videoCategory  3IaZjRK8JeIkLMfRDX57P4FFb9A  44   \n",
       "\n",
       "            snippet.title  snippet.assignable         snippet.channelId  \n",
       "0        Film & Animation                True  UCBR8-60-B28hp2BmDPdntcQ  \n",
       "1        Autos & Vehicles                True  UCBR8-60-B28hp2BmDPdntcQ  \n",
       "2                   Music                True  UCBR8-60-B28hp2BmDPdntcQ  \n",
       "3          Pets & Animals                True  UCBR8-60-B28hp2BmDPdntcQ  \n",
       "4                  Sports                True  UCBR8-60-B28hp2BmDPdntcQ  \n",
       "5            Short Movies               False  UCBR8-60-B28hp2BmDPdntcQ  \n",
       "6         Travel & Events                True  UCBR8-60-B28hp2BmDPdntcQ  \n",
       "7                  Gaming                True  UCBR8-60-B28hp2BmDPdntcQ  \n",
       "8           Videoblogging               False  UCBR8-60-B28hp2BmDPdntcQ  \n",
       "9          People & Blogs                True  UCBR8-60-B28hp2BmDPdntcQ  \n",
       "10                 Comedy                True  UCBR8-60-B28hp2BmDPdntcQ  \n",
       "11          Entertainment                True  UCBR8-60-B28hp2BmDPdntcQ  \n",
       "12        News & Politics                True  UCBR8-60-B28hp2BmDPdntcQ  \n",
       "13          Howto & Style                True  UCBR8-60-B28hp2BmDPdntcQ  \n",
       "14              Education                True  UCBR8-60-B28hp2BmDPdntcQ  \n",
       "15   Science & Technology                True  UCBR8-60-B28hp2BmDPdntcQ  \n",
       "16  Nonprofits & Activism                True  UCBR8-60-B28hp2BmDPdntcQ  \n",
       "17                 Movies               False  UCBR8-60-B28hp2BmDPdntcQ  \n",
       "18        Anime/Animation               False  UCBR8-60-B28hp2BmDPdntcQ  \n",
       "19       Action/Adventure               False  UCBR8-60-B28hp2BmDPdntcQ  \n",
       "20               Classics               False  UCBR8-60-B28hp2BmDPdntcQ  \n",
       "21                 Comedy               False  UCBR8-60-B28hp2BmDPdntcQ  \n",
       "22            Documentary               False  UCBR8-60-B28hp2BmDPdntcQ  \n",
       "23                  Drama               False  UCBR8-60-B28hp2BmDPdntcQ  \n",
       "24                 Family               False  UCBR8-60-B28hp2BmDPdntcQ  \n",
       "25                Foreign               False  UCBR8-60-B28hp2BmDPdntcQ  \n",
       "26                 Horror               False  UCBR8-60-B28hp2BmDPdntcQ  \n",
       "27         Sci-Fi/Fantasy               False  UCBR8-60-B28hp2BmDPdntcQ  \n",
       "28               Thriller               False  UCBR8-60-B28hp2BmDPdntcQ  \n",
       "29                 Shorts               False  UCBR8-60-B28hp2BmDPdntcQ  \n",
       "30                  Shows               False  UCBR8-60-B28hp2BmDPdntcQ  \n",
       "31               Trailers               False  UCBR8-60-B28hp2BmDPdntcQ  "
      ]
     },
     "execution_count": 9,
     "metadata": {},
     "output_type": "execute_result"
    }
   ],
   "source": [
    "US_cat = pd.json_normalize(category_data_us,record_path='items')\n",
    "CA_cat = pd.json_normalize(category_data_ca,record_path='items')\n",
    "GB_cat = pd.json_normalize(category_data_gb,record_path='items')\n",
    "US_cat"
   ]
  },
  {
   "cell_type": "code",
   "execution_count": 10,
   "metadata": {
    "execution": {
     "iopub.execute_input": "2022-02-03T20:22:22.871751Z",
     "iopub.status.busy": "2022-02-03T20:22:22.871355Z",
     "iopub.status.idle": "2022-02-03T20:22:22.884489Z",
     "shell.execute_reply": "2022-02-03T20:22:22.883627Z",
     "shell.execute_reply.started": "2022-02-03T20:22:22.871709Z"
    }
   },
   "outputs": [],
   "source": [
    "# Converting the 'id' extracted from the json file to type 'int'\n",
    "US_cat['id']= US_cat['id'].astype(int)\n",
    "CA_cat['id']= CA_cat['id'].astype(int)\n",
    "GB_cat['id']= GB_cat['id'].astype(int)"
   ]
  },
  {
   "cell_type": "markdown",
   "metadata": {},
   "source": [
    "**3. Merging videos dataframe and category dataframe for all countries using left join**"
   ]
  },
  {
   "cell_type": "code",
   "execution_count": 11,
   "metadata": {
    "execution": {
     "iopub.execute_input": "2022-02-03T20:22:22.886348Z",
     "iopub.status.busy": "2022-02-03T20:22:22.886058Z",
     "iopub.status.idle": "2022-02-03T20:22:23.342803Z",
     "shell.execute_reply": "2022-02-03T20:22:23.342002Z",
     "shell.execute_reply.started": "2022-02-03T20:22:22.886311Z"
    }
   },
   "outputs": [],
   "source": [
    "US_Videos_df= US_Videos_df.merge(US_cat,how ='left',left_on= 'categoryId',\\\n",
    "                                 right_on='id').rename(columns= {'snippet.title':'category_name'})\n",
    "CA_Videos_df= CA_Videos_df.merge(CA_cat,how ='left',left_on= 'categoryId',\\\n",
    "                                 right_on='id').rename(columns= {'snippet.title':'category_name'})\n",
    "GB_Videos_df= GB_Videos_df.merge(GB_cat,how ='left',left_on= 'categoryId',\\\n",
    "                                 right_on='id').rename(columns= {'snippet.title':'category_name'})"
   ]
  },
  {
   "cell_type": "markdown",
   "metadata": {},
   "source": [
    "### Noting the shape again after the merge"
   ]
  },
  {
   "cell_type": "code",
   "execution_count": 12,
   "metadata": {
    "execution": {
     "iopub.execute_input": "2022-02-03T20:22:23.344761Z",
     "iopub.status.busy": "2022-02-03T20:22:23.34444Z",
     "iopub.status.idle": "2022-02-03T20:22:23.350865Z",
     "shell.execute_reply": "2022-02-03T20:22:23.349994Z",
     "shell.execute_reply.started": "2022-02-03T20:22:23.344707Z"
    }
   },
   "outputs": [
    {
     "name": "stdout",
     "output_type": "stream",
     "text": [
      "Shape of GB File: (133994, 22)\n",
      "Shape of CA File: (133943, 22)\n",
      "Shape of US File: (133990, 22)\n"
     ]
    }
   ],
   "source": [
    "print('Shape of GB File: '+ str(GB_Videos_df.shape))\n",
    "print('Shape of CA File: '+ str(CA_Videos_df.shape))\n",
    "print('Shape of US File: '+ str(US_Videos_df.shape))"
   ]
  },
  {
   "cell_type": "markdown",
   "metadata": {},
   "source": [
    "### Adding a column 'country' to identify country specific information after appending the 3 countries - USA, Great Britain, Canada"
   ]
  },
  {
   "cell_type": "code",
   "execution_count": 13,
   "metadata": {
    "execution": {
     "iopub.execute_input": "2022-02-03T20:22:23.356404Z",
     "iopub.status.busy": "2022-02-03T20:22:23.356195Z",
     "iopub.status.idle": "2022-02-03T20:22:23.364138Z",
     "shell.execute_reply": "2022-02-03T20:22:23.363409Z",
     "shell.execute_reply.started": "2022-02-03T20:22:23.356379Z"
    }
   },
   "outputs": [],
   "source": [
    "US_Videos_df['country']= 'USA'\n",
    "CA_Videos_df['country']= 'Canada'\n",
    "GB_Videos_df['country']= 'Great Britain'"
   ]
  },
  {
   "cell_type": "code",
   "execution_count": 14,
   "metadata": {
    "execution": {
     "iopub.execute_input": "2022-02-03T20:22:23.365635Z",
     "iopub.status.busy": "2022-02-03T20:22:23.365291Z",
     "iopub.status.idle": "2022-02-03T20:22:23.390796Z",
     "shell.execute_reply": "2022-02-03T20:22:23.389901Z",
     "shell.execute_reply.started": "2022-02-03T20:22:23.365607Z"
    }
   },
   "outputs": [
    {
     "data": {
      "text/html": [
       "<div>\n",
       "<style scoped>\n",
       "    .dataframe tbody tr th:only-of-type {\n",
       "        vertical-align: middle;\n",
       "    }\n",
       "\n",
       "    .dataframe tbody tr th {\n",
       "        vertical-align: top;\n",
       "    }\n",
       "\n",
       "    .dataframe thead th {\n",
       "        text-align: right;\n",
       "    }\n",
       "</style>\n",
       "<table border=\"1\" class=\"dataframe\">\n",
       "  <thead>\n",
       "    <tr style=\"text-align: right;\">\n",
       "      <th></th>\n",
       "      <th>video_id</th>\n",
       "      <th>title</th>\n",
       "      <th>publishedAt</th>\n",
       "      <th>channelId</th>\n",
       "      <th>channelTitle</th>\n",
       "      <th>categoryId</th>\n",
       "      <th>trending_date</th>\n",
       "      <th>tags</th>\n",
       "      <th>view_count</th>\n",
       "      <th>likes</th>\n",
       "      <th>...</th>\n",
       "      <th>comments_disabled</th>\n",
       "      <th>ratings_disabled</th>\n",
       "      <th>description</th>\n",
       "      <th>kind</th>\n",
       "      <th>etag</th>\n",
       "      <th>id</th>\n",
       "      <th>category_name</th>\n",
       "      <th>snippet.assignable</th>\n",
       "      <th>snippet.channelId</th>\n",
       "      <th>country</th>\n",
       "    </tr>\n",
       "  </thead>\n",
       "  <tbody>\n",
       "    <tr>\n",
       "      <th>0</th>\n",
       "      <td>3C66w5Z0ixs</td>\n",
       "      <td>I ASKED HER TO BE MY GIRLFRIEND...</td>\n",
       "      <td>2020-08-11T19:20:14Z</td>\n",
       "      <td>UCvtRTOMP2TqYqu51xNrqAzg</td>\n",
       "      <td>Brawadis</td>\n",
       "      <td>22</td>\n",
       "      <td>2020-08-12T00:00:00Z</td>\n",
       "      <td>brawadis|prank|basketball|skits|ghost|funny vi...</td>\n",
       "      <td>1514614</td>\n",
       "      <td>156908</td>\n",
       "      <td>...</td>\n",
       "      <td>False</td>\n",
       "      <td>False</td>\n",
       "      <td>SUBSCRIBE to BRAWADIS ▶ http://bit.ly/Subscrib...</td>\n",
       "      <td>youtube#videoCategory</td>\n",
       "      <td>QMEBz6mxVdklVaq8JwesPEw_4nI</td>\n",
       "      <td>22</td>\n",
       "      <td>People &amp; Blogs</td>\n",
       "      <td>True</td>\n",
       "      <td>UCBR8-60-B28hp2BmDPdntcQ</td>\n",
       "      <td>USA</td>\n",
       "    </tr>\n",
       "  </tbody>\n",
       "</table>\n",
       "<p>1 rows × 23 columns</p>\n",
       "</div>"
      ],
      "text/plain": [
       "      video_id                               title           publishedAt  \\\n",
       "0  3C66w5Z0ixs  I ASKED HER TO BE MY GIRLFRIEND...  2020-08-11T19:20:14Z   \n",
       "\n",
       "                  channelId channelTitle  categoryId         trending_date  \\\n",
       "0  UCvtRTOMP2TqYqu51xNrqAzg     Brawadis          22  2020-08-12T00:00:00Z   \n",
       "\n",
       "                                                tags  view_count   likes  ...  \\\n",
       "0  brawadis|prank|basketball|skits|ghost|funny vi...     1514614  156908  ...   \n",
       "\n",
       "   comments_disabled  ratings_disabled  \\\n",
       "0              False             False   \n",
       "\n",
       "                                         description                   kind  \\\n",
       "0  SUBSCRIBE to BRAWADIS ▶ http://bit.ly/Subscrib...  youtube#videoCategory   \n",
       "\n",
       "                          etag  id   category_name snippet.assignable  \\\n",
       "0  QMEBz6mxVdklVaq8JwesPEw_4nI  22  People & Blogs               True   \n",
       "\n",
       "          snippet.channelId country  \n",
       "0  UCBR8-60-B28hp2BmDPdntcQ     USA  \n",
       "\n",
       "[1 rows x 23 columns]"
      ]
     },
     "execution_count": 14,
     "metadata": {},
     "output_type": "execute_result"
    }
   ],
   "source": [
    "US_Videos_df.head(1)"
   ]
  },
  {
   "cell_type": "markdown",
   "metadata": {},
   "source": [
    "### Appending Data from 3 countries:"
   ]
  },
  {
   "cell_type": "markdown",
   "metadata": {},
   "source": [
    "#### Making a list of all countries and using pd.concat function to append data for all countries in one dataframe"
   ]
  },
  {
   "cell_type": "code",
   "execution_count": 15,
   "metadata": {
    "execution": {
     "iopub.execute_input": "2022-02-03T20:22:23.392625Z",
     "iopub.status.busy": "2022-02-03T20:22:23.392169Z",
     "iopub.status.idle": "2022-02-03T20:22:23.3966Z",
     "shell.execute_reply": "2022-02-03T20:22:23.395831Z",
     "shell.execute_reply.started": "2022-02-03T20:22:23.392584Z"
    }
   },
   "outputs": [],
   "source": [
    "df_list= [US_Videos_df,CA_Videos_df,GB_Videos_df]"
   ]
  },
  {
   "cell_type": "code",
   "execution_count": 16,
   "metadata": {
    "execution": {
     "iopub.execute_input": "2022-02-03T20:22:23.399792Z",
     "iopub.status.busy": "2022-02-03T20:22:23.397536Z",
     "iopub.status.idle": "2022-02-03T20:22:23.777056Z",
     "shell.execute_reply": "2022-02-03T20:22:23.776403Z",
     "shell.execute_reply.started": "2022-02-03T20:22:23.39976Z"
    }
   },
   "outputs": [],
   "source": [
    "df= pd.concat(df_list).reset_index(drop=True)"
   ]
  },
  {
   "cell_type": "code",
   "execution_count": 17,
   "metadata": {
    "execution": {
     "iopub.execute_input": "2022-02-03T20:22:23.778493Z",
     "iopub.status.busy": "2022-02-03T20:22:23.777934Z",
     "iopub.status.idle": "2022-02-03T20:22:23.821931Z",
     "shell.execute_reply": "2022-02-03T20:22:23.821198Z",
     "shell.execute_reply.started": "2022-02-03T20:22:23.778461Z"
    }
   },
   "outputs": [
    {
     "data": {
      "text/plain": [
       "country\n",
       "Canada           133943\n",
       "Great Britain    133994\n",
       "USA              133990\n",
       "Name: video_id, dtype: int64"
      ]
     },
     "execution_count": 17,
     "metadata": {},
     "output_type": "execute_result"
    }
   ],
   "source": [
    "df.groupby('country')['video_id'].count()"
   ]
  },
  {
   "cell_type": "code",
   "execution_count": 18,
   "metadata": {
    "execution": {
     "iopub.execute_input": "2022-02-03T20:22:23.823307Z",
     "iopub.status.busy": "2022-02-03T20:22:23.822972Z",
     "iopub.status.idle": "2022-02-03T20:22:23.828499Z",
     "shell.execute_reply": "2022-02-03T20:22:23.827761Z",
     "shell.execute_reply.started": "2022-02-03T20:22:23.82328Z"
    }
   },
   "outputs": [],
   "source": [
    "assert (df.shape[0] == df.groupby('country')['video_id'].count().sum())"
   ]
  },
  {
   "cell_type": "markdown",
   "metadata": {},
   "source": [
    "# Data Cleaning"
   ]
  },
  {
   "cell_type": "markdown",
   "metadata": {},
   "source": [
    "#### Dropping columns that are irrelevant for analysis:"
   ]
  },
  {
   "cell_type": "code",
   "execution_count": 19,
   "metadata": {
    "execution": {
     "iopub.execute_input": "2022-02-03T20:22:23.829908Z",
     "iopub.status.busy": "2022-02-03T20:22:23.829681Z",
     "iopub.status.idle": "2022-02-03T20:22:23.873678Z",
     "shell.execute_reply": "2022-02-03T20:22:23.872867Z",
     "shell.execute_reply.started": "2022-02-03T20:22:23.829883Z"
    }
   },
   "outputs": [
    {
     "data": {
      "text/plain": [
       "(401927, 16)"
      ]
     },
     "execution_count": 19,
     "metadata": {},
     "output_type": "execute_result"
    }
   ],
   "source": [
    "df.drop(columns=['thumbnail_link','kind','etag','id','snippet.assignable','snippet.channelId','channelId'], axis='columns').shape"
   ]
  },
  {
   "cell_type": "markdown",
   "metadata": {},
   "source": [
    "#### The above code is a proof that the columns mentioned are safely dropped without disturbing the rows.So,using inplace= True parameter with drop"
   ]
  },
  {
   "cell_type": "code",
   "execution_count": 20,
   "metadata": {
    "execution": {
     "iopub.execute_input": "2022-02-03T20:22:23.875097Z",
     "iopub.status.busy": "2022-02-03T20:22:23.874898Z",
     "iopub.status.idle": "2022-02-03T20:22:23.920099Z",
     "shell.execute_reply": "2022-02-03T20:22:23.919246Z",
     "shell.execute_reply.started": "2022-02-03T20:22:23.875073Z"
    }
   },
   "outputs": [],
   "source": [
    "df.drop(columns=['kind','etag','id','snippet.assignable',\\\n",
    "                 'snippet.channelId','channelId'], axis='columns',inplace=True)"
   ]
  },
  {
   "cell_type": "code",
   "execution_count": 21,
   "metadata": {
    "execution": {
     "iopub.execute_input": "2022-02-03T20:22:23.922073Z",
     "iopub.status.busy": "2022-02-03T20:22:23.921681Z",
     "iopub.status.idle": "2022-02-03T20:22:23.939651Z",
     "shell.execute_reply": "2022-02-03T20:22:23.939053Z",
     "shell.execute_reply.started": "2022-02-03T20:22:23.922025Z"
    }
   },
   "outputs": [
    {
     "data": {
      "text/html": [
       "<div>\n",
       "<style scoped>\n",
       "    .dataframe tbody tr th:only-of-type {\n",
       "        vertical-align: middle;\n",
       "    }\n",
       "\n",
       "    .dataframe tbody tr th {\n",
       "        vertical-align: top;\n",
       "    }\n",
       "\n",
       "    .dataframe thead th {\n",
       "        text-align: right;\n",
       "    }\n",
       "</style>\n",
       "<table border=\"1\" class=\"dataframe\">\n",
       "  <thead>\n",
       "    <tr style=\"text-align: right;\">\n",
       "      <th></th>\n",
       "      <th>video_id</th>\n",
       "      <th>title</th>\n",
       "      <th>publishedAt</th>\n",
       "      <th>channelTitle</th>\n",
       "      <th>categoryId</th>\n",
       "      <th>trending_date</th>\n",
       "      <th>tags</th>\n",
       "      <th>view_count</th>\n",
       "      <th>likes</th>\n",
       "      <th>dislikes</th>\n",
       "      <th>comment_count</th>\n",
       "      <th>thumbnail_link</th>\n",
       "      <th>comments_disabled</th>\n",
       "      <th>ratings_disabled</th>\n",
       "      <th>description</th>\n",
       "      <th>category_name</th>\n",
       "      <th>country</th>\n",
       "    </tr>\n",
       "  </thead>\n",
       "  <tbody>\n",
       "    <tr>\n",
       "      <th>0</th>\n",
       "      <td>3C66w5Z0ixs</td>\n",
       "      <td>I ASKED HER TO BE MY GIRLFRIEND...</td>\n",
       "      <td>2020-08-11T19:20:14Z</td>\n",
       "      <td>Brawadis</td>\n",
       "      <td>22</td>\n",
       "      <td>2020-08-12T00:00:00Z</td>\n",
       "      <td>brawadis|prank|basketball|skits|ghost|funny vi...</td>\n",
       "      <td>1514614</td>\n",
       "      <td>156908</td>\n",
       "      <td>5855</td>\n",
       "      <td>35313</td>\n",
       "      <td>https://i.ytimg.com/vi/3C66w5Z0ixs/default.jpg</td>\n",
       "      <td>False</td>\n",
       "      <td>False</td>\n",
       "      <td>SUBSCRIBE to BRAWADIS ▶ http://bit.ly/Subscrib...</td>\n",
       "      <td>People &amp; Blogs</td>\n",
       "      <td>USA</td>\n",
       "    </tr>\n",
       "  </tbody>\n",
       "</table>\n",
       "</div>"
      ],
      "text/plain": [
       "      video_id                               title           publishedAt  \\\n",
       "0  3C66w5Z0ixs  I ASKED HER TO BE MY GIRLFRIEND...  2020-08-11T19:20:14Z   \n",
       "\n",
       "  channelTitle  categoryId         trending_date  \\\n",
       "0     Brawadis          22  2020-08-12T00:00:00Z   \n",
       "\n",
       "                                                tags  view_count   likes  \\\n",
       "0  brawadis|prank|basketball|skits|ghost|funny vi...     1514614  156908   \n",
       "\n",
       "   dislikes  comment_count                                  thumbnail_link  \\\n",
       "0      5855          35313  https://i.ytimg.com/vi/3C66w5Z0ixs/default.jpg   \n",
       "\n",
       "   comments_disabled  ratings_disabled  \\\n",
       "0              False             False   \n",
       "\n",
       "                                         description   category_name country  \n",
       "0  SUBSCRIBE to BRAWADIS ▶ http://bit.ly/Subscrib...  People & Blogs     USA  "
      ]
     },
     "execution_count": 21,
     "metadata": {},
     "output_type": "execute_result"
    }
   ],
   "source": [
    "df.head(1)"
   ]
  },
  {
   "cell_type": "markdown",
   "metadata": {},
   "source": [
    "### Data coherency"
   ]
  },
  {
   "cell_type": "markdown",
   "metadata": {},
   "source": [
    "#### Finding if there are any True values in comments_disabled and ratings_disabled columns, which represents that comment_count is 0 if  comments_disabled is True, and likes ,dislikes should be 0 if ratings_disabled is True"
   ]
  },
  {
   "cell_type": "code",
   "execution_count": 22,
   "metadata": {
    "execution": {
     "iopub.execute_input": "2022-02-03T20:22:23.941191Z",
     "iopub.status.busy": "2022-02-03T20:22:23.94079Z",
     "iopub.status.idle": "2022-02-03T20:22:23.959043Z",
     "shell.execute_reply": "2022-02-03T20:22:23.958238Z",
     "shell.execute_reply.started": "2022-02-03T20:22:23.941161Z"
    }
   },
   "outputs": [
    {
     "data": {
      "text/plain": [
       "53     0\n",
       "131    0\n",
       "134    0\n",
       "242    0\n",
       "276    0\n",
       "Name: comment_count, dtype: int64"
      ]
     },
     "execution_count": 22,
     "metadata": {},
     "output_type": "execute_result"
    }
   ],
   "source": [
    "df[df.comments_disabled==True]['comment_count'].head()"
   ]
  },
  {
   "cell_type": "code",
   "execution_count": 23,
   "metadata": {
    "execution": {
     "iopub.execute_input": "2022-02-03T20:22:23.960205Z",
     "iopub.status.busy": "2022-02-03T20:22:23.960013Z",
     "iopub.status.idle": "2022-02-03T20:22:23.972388Z",
     "shell.execute_reply": "2022-02-03T20:22:23.971881Z",
     "shell.execute_reply.started": "2022-02-03T20:22:23.960182Z"
    }
   },
   "outputs": [
    {
     "data": {
      "text/html": [
       "<div>\n",
       "<style scoped>\n",
       "    .dataframe tbody tr th:only-of-type {\n",
       "        vertical-align: middle;\n",
       "    }\n",
       "\n",
       "    .dataframe tbody tr th {\n",
       "        vertical-align: top;\n",
       "    }\n",
       "\n",
       "    .dataframe thead th {\n",
       "        text-align: right;\n",
       "    }\n",
       "</style>\n",
       "<table border=\"1\" class=\"dataframe\">\n",
       "  <thead>\n",
       "    <tr style=\"text-align: right;\">\n",
       "      <th></th>\n",
       "      <th>likes</th>\n",
       "      <th>dislikes</th>\n",
       "    </tr>\n",
       "  </thead>\n",
       "  <tbody>\n",
       "    <tr>\n",
       "      <th>366709</th>\n",
       "      <td>0</td>\n",
       "      <td>0</td>\n",
       "    </tr>\n",
       "    <tr>\n",
       "      <th>220484</th>\n",
       "      <td>0</td>\n",
       "      <td>0</td>\n",
       "    </tr>\n",
       "    <tr>\n",
       "      <th>177845</th>\n",
       "      <td>0</td>\n",
       "      <td>0</td>\n",
       "    </tr>\n",
       "    <tr>\n",
       "      <th>65985</th>\n",
       "      <td>0</td>\n",
       "      <td>0</td>\n",
       "    </tr>\n",
       "    <tr>\n",
       "      <th>98598</th>\n",
       "      <td>0</td>\n",
       "      <td>0</td>\n",
       "    </tr>\n",
       "  </tbody>\n",
       "</table>\n",
       "</div>"
      ],
      "text/plain": [
       "        likes  dislikes\n",
       "366709      0         0\n",
       "220484      0         0\n",
       "177845      0         0\n",
       "65985       0         0\n",
       "98598       0         0"
      ]
     },
     "execution_count": 23,
     "metadata": {},
     "output_type": "execute_result"
    }
   ],
   "source": [
    "df[df.ratings_disabled==True][['likes','dislikes']].sample(5)"
   ]
  },
  {
   "cell_type": "code",
   "execution_count": 24,
   "metadata": {
    "execution": {
     "iopub.execute_input": "2022-02-03T20:22:23.974001Z",
     "iopub.status.busy": "2022-02-03T20:22:23.973337Z",
     "iopub.status.idle": "2022-02-03T20:22:23.984802Z",
     "shell.execute_reply": "2022-02-03T20:22:23.984312Z",
     "shell.execute_reply.started": "2022-02-03T20:22:23.973968Z"
    }
   },
   "outputs": [
    {
     "data": {
      "text/plain": [
       "0"
      ]
     },
     "execution_count": 24,
     "metadata": {},
     "output_type": "execute_result"
    }
   ],
   "source": [
    "df[df.comments_disabled==True].comment_count.sum()"
   ]
  },
  {
   "cell_type": "code",
   "execution_count": 25,
   "metadata": {
    "execution": {
     "iopub.execute_input": "2022-02-03T20:22:23.986265Z",
     "iopub.status.busy": "2022-02-03T20:22:23.985737Z",
     "iopub.status.idle": "2022-02-03T20:22:23.996627Z",
     "shell.execute_reply": "2022-02-03T20:22:23.995849Z",
     "shell.execute_reply.started": "2022-02-03T20:22:23.986236Z"
    }
   },
   "outputs": [
    {
     "data": {
      "text/plain": [
       "likes       0\n",
       "dislikes    0\n",
       "dtype: int64"
      ]
     },
     "execution_count": 25,
     "metadata": {},
     "output_type": "execute_result"
    }
   ],
   "source": [
    "df[df.ratings_disabled==True][['likes','dislikes']].sum()"
   ]
  },
  {
   "cell_type": "markdown",
   "metadata": {},
   "source": [
    "##### The records with True values in Comments_disabled and ratings_disabled have 0 corresponding values(likes, dislikes,comment_count).Hence the data is coherent and it is safe to drop the above 2 columns"
   ]
  },
  {
   "cell_type": "code",
   "execution_count": 26,
   "metadata": {
    "execution": {
     "iopub.execute_input": "2022-02-03T20:22:23.998244Z",
     "iopub.status.busy": "2022-02-03T20:22:23.997513Z",
     "iopub.status.idle": "2022-02-03T20:22:24.036669Z",
     "shell.execute_reply": "2022-02-03T20:22:24.03603Z",
     "shell.execute_reply.started": "2022-02-03T20:22:23.998212Z"
    }
   },
   "outputs": [],
   "source": [
    "df.drop(columns=['comments_disabled','ratings_disabled'],axis=1,inplace=True)"
   ]
  },
  {
   "cell_type": "code",
   "execution_count": 27,
   "metadata": {
    "execution": {
     "iopub.execute_input": "2022-02-03T20:22:24.038244Z",
     "iopub.status.busy": "2022-02-03T20:22:24.037742Z",
     "iopub.status.idle": "2022-02-03T20:22:24.046936Z",
     "shell.execute_reply": "2022-02-03T20:22:24.045992Z",
     "shell.execute_reply.started": "2022-02-03T20:22:24.038208Z"
    },
    "scrolled": true
   },
   "outputs": [
    {
     "data": {
      "text/plain": [
       "(401927, 15)"
      ]
     },
     "execution_count": 27,
     "metadata": {},
     "output_type": "execute_result"
    }
   ],
   "source": [
    "df.shape"
   ]
  },
  {
   "cell_type": "markdown",
   "metadata": {},
   "source": [
    "### Checking for Null values"
   ]
  },
  {
   "cell_type": "code",
   "execution_count": 28,
   "metadata": {
    "execution": {
     "iopub.execute_input": "2022-02-03T20:22:24.048853Z",
     "iopub.status.busy": "2022-02-03T20:22:24.048518Z",
     "iopub.status.idle": "2022-02-03T20:22:24.192151Z",
     "shell.execute_reply": "2022-02-03T20:22:24.191226Z",
     "shell.execute_reply.started": "2022-02-03T20:22:24.048812Z"
    }
   },
   "outputs": [
    {
     "data": {
      "text/plain": [
       "video_id              0\n",
       "title                 0\n",
       "publishedAt           0\n",
       "channelTitle          0\n",
       "categoryId            0\n",
       "trending_date         0\n",
       "tags                  0\n",
       "view_count            0\n",
       "likes                 0\n",
       "dislikes              0\n",
       "comment_count         0\n",
       "thumbnail_link        0\n",
       "description       11076\n",
       "category_name       198\n",
       "country               0\n",
       "dtype: int64"
      ]
     },
     "execution_count": 28,
     "metadata": {},
     "output_type": "execute_result"
    }
   ],
   "source": [
    "df.isna().sum()"
   ]
  },
  {
   "cell_type": "markdown",
   "metadata": {},
   "source": [
    "#### There are null values in category_name and description\n",
    "#### 1. Dealing with Category_name null values \n",
    "#### 2. Dealing with description null values"
   ]
  },
  {
   "cell_type": "markdown",
   "metadata": {},
   "source": [
    "#### 1. Dealing with null values in category_name"
   ]
  },
  {
   "cell_type": "code",
   "execution_count": 29,
   "metadata": {
    "execution": {
     "iopub.execute_input": "2022-02-03T20:22:24.194137Z",
     "iopub.status.busy": "2022-02-03T20:22:24.19384Z",
     "iopub.status.idle": "2022-02-03T20:22:24.223257Z",
     "shell.execute_reply": "2022-02-03T20:22:24.222451Z",
     "shell.execute_reply.started": "2022-02-03T20:22:24.194093Z"
    }
   },
   "outputs": [
    {
     "data": {
      "text/html": [
       "<div>\n",
       "<style scoped>\n",
       "    .dataframe tbody tr th:only-of-type {\n",
       "        vertical-align: middle;\n",
       "    }\n",
       "\n",
       "    .dataframe tbody tr th {\n",
       "        vertical-align: top;\n",
       "    }\n",
       "\n",
       "    .dataframe thead th {\n",
       "        text-align: right;\n",
       "    }\n",
       "</style>\n",
       "<table border=\"1\" class=\"dataframe\">\n",
       "  <thead>\n",
       "    <tr style=\"text-align: right;\">\n",
       "      <th></th>\n",
       "      <th>video_id</th>\n",
       "      <th>title</th>\n",
       "      <th>publishedAt</th>\n",
       "      <th>channelTitle</th>\n",
       "      <th>categoryId</th>\n",
       "      <th>trending_date</th>\n",
       "      <th>tags</th>\n",
       "      <th>view_count</th>\n",
       "      <th>likes</th>\n",
       "      <th>dislikes</th>\n",
       "      <th>comment_count</th>\n",
       "      <th>thumbnail_link</th>\n",
       "      <th>description</th>\n",
       "      <th>category_name</th>\n",
       "      <th>country</th>\n",
       "    </tr>\n",
       "  </thead>\n",
       "  <tbody>\n",
       "    <tr>\n",
       "      <th>138473</th>\n",
       "      <td>zvxrdwbmnHU</td>\n",
       "      <td>Nisswa Mayor Arrested for Involvement in Traff...</td>\n",
       "      <td>2020-09-01T04:50:02Z</td>\n",
       "      <td>Lakeland PBS</td>\n",
       "      <td>29</td>\n",
       "      <td>2020-09-03T00:00:00Z</td>\n",
       "      <td>Lakeland PBS|LPTV|PBS|Bemidji|Minnesota|MN</td>\n",
       "      <td>345993</td>\n",
       "      <td>5829</td>\n",
       "      <td>172</td>\n",
       "      <td>3209</td>\n",
       "      <td>https://i.ytimg.com/vi/zvxrdwbmnHU/default.jpg</td>\n",
       "      <td>Originally aired August 31, 2020For more infor...</td>\n",
       "      <td>NaN</td>\n",
       "      <td>Canada</td>\n",
       "    </tr>\n",
       "    <tr>\n",
       "      <th>138706</th>\n",
       "      <td>zvxrdwbmnHU</td>\n",
       "      <td>Nisswa Mayor Arrested for Involvement in Traff...</td>\n",
       "      <td>2020-09-01T04:50:02Z</td>\n",
       "      <td>Lakeland PBS</td>\n",
       "      <td>29</td>\n",
       "      <td>2020-09-04T00:00:00Z</td>\n",
       "      <td>Lakeland PBS|LPTV|PBS|Bemidji|Minnesota|MN</td>\n",
       "      <td>408941</td>\n",
       "      <td>6578</td>\n",
       "      <td>187</td>\n",
       "      <td>3533</td>\n",
       "      <td>https://i.ytimg.com/vi/zvxrdwbmnHU/default.jpg</td>\n",
       "      <td>Originally aired August 31, 2020For more infor...</td>\n",
       "      <td>NaN</td>\n",
       "      <td>Canada</td>\n",
       "    </tr>\n",
       "    <tr>\n",
       "      <th>138924</th>\n",
       "      <td>zvxrdwbmnHU</td>\n",
       "      <td>Nisswa Mayor Arrested for Involvement in Traff...</td>\n",
       "      <td>2020-09-01T04:50:02Z</td>\n",
       "      <td>Lakeland PBS</td>\n",
       "      <td>29</td>\n",
       "      <td>2020-09-05T00:00:00Z</td>\n",
       "      <td>Lakeland PBS|LPTV|PBS|Bemidji|Minnesota|MN</td>\n",
       "      <td>447580</td>\n",
       "      <td>7233</td>\n",
       "      <td>198</td>\n",
       "      <td>3828</td>\n",
       "      <td>https://i.ytimg.com/vi/zvxrdwbmnHU/default.jpg</td>\n",
       "      <td>Originally aired August 31, 2020For more infor...</td>\n",
       "      <td>NaN</td>\n",
       "      <td>Canada</td>\n",
       "    </tr>\n",
       "    <tr>\n",
       "      <th>139154</th>\n",
       "      <td>zvxrdwbmnHU</td>\n",
       "      <td>Nisswa Mayor Arrested for Involvement in Traff...</td>\n",
       "      <td>2020-09-01T04:50:02Z</td>\n",
       "      <td>Lakeland PBS</td>\n",
       "      <td>29</td>\n",
       "      <td>2020-09-06T00:00:00Z</td>\n",
       "      <td>Lakeland PBS|LPTV|PBS|Bemidji|Minnesota|MN</td>\n",
       "      <td>469103</td>\n",
       "      <td>7607</td>\n",
       "      <td>208</td>\n",
       "      <td>4000</td>\n",
       "      <td>https://i.ytimg.com/vi/zvxrdwbmnHU/default.jpg</td>\n",
       "      <td>Originally aired August 31, 2020For more infor...</td>\n",
       "      <td>NaN</td>\n",
       "      <td>Canada</td>\n",
       "    </tr>\n",
       "    <tr>\n",
       "      <th>139270</th>\n",
       "      <td>P5urIeEcuvA</td>\n",
       "      <td>Miley Cyrus quits veganism</td>\n",
       "      <td>2020-09-05T18:17:10Z</td>\n",
       "      <td>Earthling Ed</td>\n",
       "      <td>29</td>\n",
       "      <td>2020-09-07T00:00:00Z</td>\n",
       "      <td>earthlinged|earthling ed|vegan|veganism|why|be...</td>\n",
       "      <td>132065</td>\n",
       "      <td>14258</td>\n",
       "      <td>380</td>\n",
       "      <td>2822</td>\n",
       "      <td>https://i.ytimg.com/vi/P5urIeEcuvA/default.jpg</td>\n",
       "      <td>✺ find out more about what i do &amp; sign up for ...</td>\n",
       "      <td>NaN</td>\n",
       "      <td>Canada</td>\n",
       "    </tr>\n",
       "  </tbody>\n",
       "</table>\n",
       "</div>"
      ],
      "text/plain": [
       "           video_id                                              title  \\\n",
       "138473  zvxrdwbmnHU  Nisswa Mayor Arrested for Involvement in Traff...   \n",
       "138706  zvxrdwbmnHU  Nisswa Mayor Arrested for Involvement in Traff...   \n",
       "138924  zvxrdwbmnHU  Nisswa Mayor Arrested for Involvement in Traff...   \n",
       "139154  zvxrdwbmnHU  Nisswa Mayor Arrested for Involvement in Traff...   \n",
       "139270  P5urIeEcuvA                         Miley Cyrus quits veganism   \n",
       "\n",
       "                 publishedAt  channelTitle  categoryId         trending_date  \\\n",
       "138473  2020-09-01T04:50:02Z  Lakeland PBS          29  2020-09-03T00:00:00Z   \n",
       "138706  2020-09-01T04:50:02Z  Lakeland PBS          29  2020-09-04T00:00:00Z   \n",
       "138924  2020-09-01T04:50:02Z  Lakeland PBS          29  2020-09-05T00:00:00Z   \n",
       "139154  2020-09-01T04:50:02Z  Lakeland PBS          29  2020-09-06T00:00:00Z   \n",
       "139270  2020-09-05T18:17:10Z  Earthling Ed          29  2020-09-07T00:00:00Z   \n",
       "\n",
       "                                                     tags  view_count  likes  \\\n",
       "138473         Lakeland PBS|LPTV|PBS|Bemidji|Minnesota|MN      345993   5829   \n",
       "138706         Lakeland PBS|LPTV|PBS|Bemidji|Minnesota|MN      408941   6578   \n",
       "138924         Lakeland PBS|LPTV|PBS|Bemidji|Minnesota|MN      447580   7233   \n",
       "139154         Lakeland PBS|LPTV|PBS|Bemidji|Minnesota|MN      469103   7607   \n",
       "139270  earthlinged|earthling ed|vegan|veganism|why|be...      132065  14258   \n",
       "\n",
       "        dislikes  comment_count  \\\n",
       "138473       172           3209   \n",
       "138706       187           3533   \n",
       "138924       198           3828   \n",
       "139154       208           4000   \n",
       "139270       380           2822   \n",
       "\n",
       "                                        thumbnail_link  \\\n",
       "138473  https://i.ytimg.com/vi/zvxrdwbmnHU/default.jpg   \n",
       "138706  https://i.ytimg.com/vi/zvxrdwbmnHU/default.jpg   \n",
       "138924  https://i.ytimg.com/vi/zvxrdwbmnHU/default.jpg   \n",
       "139154  https://i.ytimg.com/vi/zvxrdwbmnHU/default.jpg   \n",
       "139270  https://i.ytimg.com/vi/P5urIeEcuvA/default.jpg   \n",
       "\n",
       "                                              description category_name  \\\n",
       "138473  Originally aired August 31, 2020For more infor...           NaN   \n",
       "138706  Originally aired August 31, 2020For more infor...           NaN   \n",
       "138924  Originally aired August 31, 2020For more infor...           NaN   \n",
       "139154  Originally aired August 31, 2020For more infor...           NaN   \n",
       "139270  ✺ find out more about what i do & sign up for ...           NaN   \n",
       "\n",
       "       country  \n",
       "138473  Canada  \n",
       "138706  Canada  \n",
       "138924  Canada  \n",
       "139154  Canada  \n",
       "139270  Canada  "
      ]
     },
     "execution_count": 29,
     "metadata": {},
     "output_type": "execute_result"
    }
   ],
   "source": [
    "df[df.category_name.isna()].head()"
   ]
  },
  {
   "cell_type": "code",
   "execution_count": 30,
   "metadata": {
    "execution": {
     "iopub.execute_input": "2022-02-03T20:22:24.225399Z",
     "iopub.status.busy": "2022-02-03T20:22:24.224892Z",
     "iopub.status.idle": "2022-02-03T20:22:24.235469Z",
     "shell.execute_reply": "2022-02-03T20:22:24.234588Z",
     "shell.execute_reply.started": "2022-02-03T20:22:24.225358Z"
    }
   },
   "outputs": [
    {
     "data": {
      "text/plain": [
       "4474      Nonprofits & Activism\n",
       "4690      Nonprofits & Activism\n",
       "4897      Nonprofits & Activism\n",
       "5132      Nonprofits & Activism\n",
       "5383      Nonprofits & Activism\n",
       "                  ...          \n",
       "389407                      NaN\n",
       "389634                      NaN\n",
       "389849                      NaN\n",
       "390070                      NaN\n",
       "390312                      NaN\n",
       "Name: category_name, Length: 312, dtype: object"
      ]
     },
     "execution_count": 30,
     "metadata": {},
     "output_type": "execute_result"
    }
   ],
   "source": [
    "df[df.categoryId==29].category_name"
   ]
  },
  {
   "cell_type": "code",
   "execution_count": 31,
   "metadata": {
    "execution": {
     "iopub.execute_input": "2022-02-03T20:22:24.236703Z",
     "iopub.status.busy": "2022-02-03T20:22:24.236417Z",
     "iopub.status.idle": "2022-02-03T20:22:24.257357Z",
     "shell.execute_reply": "2022-02-03T20:22:24.256309Z",
     "shell.execute_reply.started": "2022-02-03T20:22:24.236657Z"
    }
   },
   "outputs": [
    {
     "data": {
      "text/plain": [
       "array(['Nisswa Mayor Arrested for Involvement in Traffic Stop',\n",
       "       'Miley Cyrus quits veganism',\n",
       "       'Fast Times At Ridgemont High | Virtual Table Read for CORE',\n",
       "       '[Full livestream] Watch the Countdown Global Launch, a call to action on climate change',\n",
       "       'RETURNING To YouTube? Our CHARITY FUNDRAISER! (Ft. Orla Gartland)',\n",
       "       'It Counts', 'Happy Birthday, #TeamTrees!',\n",
       "       'The cast of Glee pays tribute to Naya Rivera & Santana Lopez at the 32nd Annual GLAAD Media Awards',\n",
       "       'Color the Spectrum LIVE- Mark Rober and Jimmy Kimmel',\n",
       "       'Global Citizen VAX Live - Extended Concert Only on YouTube',\n",
       "       \"I Was Hacked. But Now I'm BACK!\",\n",
       "       'President Moon Jae-in & BTS at the Sustainable Development Goals Moment | United Nations (English)',\n",
       "       'BTS Shine Spotlight on the United Nations as Envoys of the President of the Republic of Korea',\n",
       "       'BTS (방탄소년단) at Global Citizen Live Concert - Permission to Dance | #GlobalCitizenLive',\n",
       "       'Coldplay and BTS Share New Song My Universe | Global Citizen Live',\n",
       "       'Coldplay – Fix You (Live with Billie Eilish and FINNEAS in New York City) | Global Citizen Live',\n",
       "       'BTS Performs Permission to Dance in Seoul to open Global Citizen Live | Global Citizen Live',\n",
       "       'Pandora Papers: An unprecedented leak exposes the inner workings of a shadow economy',\n",
       "       \"Don't Choose Extinction - UNDP | United Nations | Jack Black | Climate Action\",\n",
       "       'The mannii #tiktok #shorts',\n",
       "       'Our little nephew definitely cheated 😂 Wait for it LOL #Shorts',\n",
       "       'Working in healthcare is NOT what you see in the movies',\n",
       "       'Denzel Washington Reveals the Aftermath of Will Smith’s Slap at the Oscars to T.D. Jakes',\n",
       "       'A Ramadan Without Loneliness | Ramadan 2022 | Islamic Relief Canada',\n",
       "       'The Joe Wicks 24 Hour PE Challenge | Part 5 | Schools Finale',\n",
       "       'The Joe Wicks 24 Hour PE Challenge | Part 1',\n",
       "       'Save Ralph - A short film with Taika Waititi'], dtype=object)"
      ]
     },
     "execution_count": 31,
     "metadata": {},
     "output_type": "execute_result"
    }
   ],
   "source": [
    "df[df.category_name.isna()]['title'].unique()"
   ]
  },
  {
   "cell_type": "markdown",
   "metadata": {},
   "source": [
    "#### For categoryID=29 , USA has a category name NonProfits&Activism whereas CA,GB did not define a categoryname. By taking a look at the Video title of those records,we can come to a conclusion that they represent  NonProfits&Activists category. So, replacing Nan's with NonProfits&Activism."
   ]
  },
  {
   "cell_type": "code",
   "execution_count": 32,
   "metadata": {
    "execution": {
     "iopub.execute_input": "2022-02-03T20:22:24.25924Z",
     "iopub.status.busy": "2022-02-03T20:22:24.258793Z",
     "iopub.status.idle": "2022-02-03T20:22:24.296247Z",
     "shell.execute_reply": "2022-02-03T20:22:24.29529Z",
     "shell.execute_reply.started": "2022-02-03T20:22:24.259198Z"
    }
   },
   "outputs": [
    {
     "data": {
      "text/plain": [
       "False"
      ]
     },
     "execution_count": 32,
     "metadata": {},
     "output_type": "execute_result"
    }
   ],
   "source": [
    "df.category_name.fillna('Nonprofits & Activism').isna().any()"
   ]
  },
  {
   "cell_type": "code",
   "execution_count": 33,
   "metadata": {
    "execution": {
     "iopub.execute_input": "2022-02-03T20:22:24.298097Z",
     "iopub.status.busy": "2022-02-03T20:22:24.29781Z",
     "iopub.status.idle": "2022-02-03T20:22:24.317565Z",
     "shell.execute_reply": "2022-02-03T20:22:24.316945Z",
     "shell.execute_reply.started": "2022-02-03T20:22:24.298059Z"
    }
   },
   "outputs": [],
   "source": [
    "df.category_name.fillna('Nonprofits & Activism',inplace=True)"
   ]
  },
  {
   "cell_type": "markdown",
   "metadata": {},
   "source": [
    "#### 2. Dealing with Null values in description\n",
    "##### filling missing values in description with ''"
   ]
  },
  {
   "cell_type": "code",
   "execution_count": 34,
   "metadata": {
    "execution": {
     "iopub.execute_input": "2022-02-03T20:22:24.319273Z",
     "iopub.status.busy": "2022-02-03T20:22:24.318566Z",
     "iopub.status.idle": "2022-02-03T20:22:24.356479Z",
     "shell.execute_reply": "2022-02-03T20:22:24.355701Z",
     "shell.execute_reply.started": "2022-02-03T20:22:24.319233Z"
    }
   },
   "outputs": [
    {
     "data": {
      "text/plain": [
       "0         SUBSCRIBE to BRAWADIS ▶ http://bit.ly/Subscrib...\n",
       "1         While running her own modding shop, Ramya Pare...\n",
       "2         I left youtube for a month and this is what ha...\n",
       "3         Subscribe to XXL → http://bit.ly/subscribe-xxl...\n",
       "4         Transforming The LaBrant Family's empty white ...\n",
       "                                ...                        \n",
       "401922    It is time for the new Era. Watch the trailer ...\n",
       "401923    ►How I Stole Max Hearts On This Minecraft SMP....\n",
       "401924    The much anticipated and belated patch 2.7 has...\n",
       "401925    Welcome your faces back to a new dawn and a ne...\n",
       "401926    Thanks to ExpressVPN for sponsoring this video...\n",
       "Name: description, Length: 401927, dtype: object"
      ]
     },
     "execution_count": 34,
     "metadata": {},
     "output_type": "execute_result"
    }
   ],
   "source": [
    "df.description.fillna('')"
   ]
  },
  {
   "cell_type": "code",
   "execution_count": 35,
   "metadata": {
    "execution": {
     "iopub.execute_input": "2022-02-03T20:22:24.358173Z",
     "iopub.status.busy": "2022-02-03T20:22:24.357548Z",
     "iopub.status.idle": "2022-02-03T20:22:24.410336Z",
     "shell.execute_reply": "2022-02-03T20:22:24.409494Z",
     "shell.execute_reply.started": "2022-02-03T20:22:24.35814Z"
    }
   },
   "outputs": [
    {
     "data": {
      "text/plain": [
       "False"
      ]
     },
     "execution_count": 35,
     "metadata": {},
     "output_type": "execute_result"
    }
   ],
   "source": [
    "df.description.fillna('').isna().any()"
   ]
  },
  {
   "cell_type": "code",
   "execution_count": 36,
   "metadata": {
    "execution": {
     "iopub.execute_input": "2022-02-03T20:22:24.41173Z",
     "iopub.status.busy": "2022-02-03T20:22:24.41148Z",
     "iopub.status.idle": "2022-02-03T20:22:24.44057Z",
     "shell.execute_reply": "2022-02-03T20:22:24.439735Z",
     "shell.execute_reply.started": "2022-02-03T20:22:24.411676Z"
    }
   },
   "outputs": [],
   "source": [
    "df.description.fillna('',inplace=True)"
   ]
  },
  {
   "cell_type": "markdown",
   "metadata": {},
   "source": [
    "#### Understanding data in descriptive columns"
   ]
  },
  {
   "cell_type": "code",
   "execution_count": 37,
   "metadata": {
    "execution": {
     "iopub.execute_input": "2022-02-03T20:22:24.442473Z",
     "iopub.status.busy": "2022-02-03T20:22:24.441987Z",
     "iopub.status.idle": "2022-02-03T20:22:24.464115Z",
     "shell.execute_reply": "2022-02-03T20:22:24.463369Z",
     "shell.execute_reply.started": "2022-02-03T20:22:24.44244Z"
    }
   },
   "outputs": [
    {
     "data": {
      "text/plain": [
       "149881                                               [None]\n",
       "230417    Technoblade|Technothepig|Technoblade Minecraft...\n",
       "245421    Michelob ULTRA|ultra light beer|active lifesty...\n",
       "139258    engineering|science|technology|education|histo...\n",
       "Name: tags, dtype: object"
      ]
     },
     "execution_count": 37,
     "metadata": {},
     "output_type": "execute_result"
    }
   ],
   "source": [
    "df.tags.sample(4)"
   ]
  },
  {
   "cell_type": "code",
   "execution_count": 38,
   "metadata": {
    "execution": {
     "iopub.execute_input": "2022-02-03T20:22:24.465912Z",
     "iopub.status.busy": "2022-02-03T20:22:24.46559Z",
     "iopub.status.idle": "2022-02-03T20:22:24.479877Z",
     "shell.execute_reply": "2022-02-03T20:22:24.479123Z",
     "shell.execute_reply.started": "2022-02-03T20:22:24.465873Z"
    }
   },
   "outputs": [
    {
     "data": {
      "text/plain": [
       "238125    My Friends Trapped me in PERMAFROST, so I got ...\n",
       "43038     The ROG Phone 5 has a Problem - Durability Tes...\n",
       "192082        J'ouvre un RESTAURANT 100% GRATUIT! | DENYZEE\n",
       "237925                       Why Buildings Need Foundations\n",
       "Name: title, dtype: object"
      ]
     },
     "execution_count": 38,
     "metadata": {},
     "output_type": "execute_result"
    }
   ],
   "source": [
    "df.title.sample(4)"
   ]
  },
  {
   "cell_type": "code",
   "execution_count": 39,
   "metadata": {
    "execution": {
     "iopub.execute_input": "2022-02-03T20:22:24.481404Z",
     "iopub.status.busy": "2022-02-03T20:22:24.481093Z",
     "iopub.status.idle": "2022-02-03T20:22:24.499883Z",
     "shell.execute_reply": "2022-02-03T20:22:24.499113Z",
     "shell.execute_reply.started": "2022-02-03T20:22:24.481378Z"
    }
   },
   "outputs": [
    {
     "data": {
      "text/plain": [
       "174804                 I Talk\n",
       "258894                  Ryscu\n",
       "310189    Hailey Rhode Bieber\n",
       "119310           yung maestro\n",
       "Name: channelTitle, dtype: object"
      ]
     },
     "execution_count": 39,
     "metadata": {},
     "output_type": "execute_result"
    }
   ],
   "source": [
    "df.channelTitle.sample(4)"
   ]
  },
  {
   "cell_type": "code",
   "execution_count": 40,
   "metadata": {
    "execution": {
     "iopub.execute_input": "2022-02-03T20:22:24.505936Z",
     "iopub.status.busy": "2022-02-03T20:22:24.505679Z",
     "iopub.status.idle": "2022-02-03T20:22:24.520788Z",
     "shell.execute_reply": "2022-02-03T20:22:24.520188Z",
     "shell.execute_reply.started": "2022-02-03T20:22:24.505909Z"
    }
   },
   "outputs": [
    {
     "data": {
      "text/plain": [
       "306425    The National Lottery draw results for Lotto re...\n",
       "147227    This tiny house is as unique as it is stunning...\n",
       "138695    Quick lil reaction to my before they were famo...\n",
       "253819    God, thank you for your gift of life and your ...\n",
       "Name: description, dtype: object"
      ]
     },
     "execution_count": 40,
     "metadata": {},
     "output_type": "execute_result"
    }
   ],
   "source": [
    "df.description.sample(4)"
   ]
  },
  {
   "cell_type": "markdown",
   "metadata": {},
   "source": [
    "### The function defined below checks if the text contains non english characters or not"
   ]
  },
  {
   "cell_type": "code",
   "execution_count": 41,
   "metadata": {
    "execution": {
     "iopub.execute_input": "2022-02-03T20:22:24.522295Z",
     "iopub.status.busy": "2022-02-03T20:22:24.522084Z",
     "iopub.status.idle": "2022-02-03T20:22:24.530189Z",
     "shell.execute_reply": "2022-02-03T20:22:24.529612Z",
     "shell.execute_reply.started": "2022-02-03T20:22:24.522271Z"
    }
   },
   "outputs": [],
   "source": [
    "def isEnglish(s):\n",
    "    try:\n",
    "        s.encode('ascii')\n",
    "    except UnicodeEncodeError:\n",
    "        return False\n",
    "    else:\n",
    "        return True"
   ]
  },
  {
   "cell_type": "code",
   "execution_count": 42,
   "metadata": {
    "execution": {
     "iopub.execute_input": "2022-02-03T20:22:24.531625Z",
     "iopub.status.busy": "2022-02-03T20:22:24.53117Z",
     "iopub.status.idle": "2022-02-03T20:22:24.540006Z",
     "shell.execute_reply": "2022-02-03T20:22:24.539505Z",
     "shell.execute_reply.started": "2022-02-03T20:22:24.531592Z"
    }
   },
   "outputs": [
    {
     "data": {
      "text/plain": [
       "False"
      ]
     },
     "execution_count": 42,
     "metadata": {},
     "output_type": "execute_result"
    }
   ],
   "source": [
    "isEnglish('slabiky, ale liší se podle významu')"
   ]
  },
  {
   "cell_type": "code",
   "execution_count": 43,
   "metadata": {
    "execution": {
     "iopub.execute_input": "2022-02-03T20:22:24.541627Z",
     "iopub.status.busy": "2022-02-03T20:22:24.540886Z",
     "iopub.status.idle": "2022-02-03T20:22:24.550512Z",
     "shell.execute_reply": "2022-02-03T20:22:24.54968Z",
     "shell.execute_reply.started": "2022-02-03T20:22:24.54158Z"
    }
   },
   "outputs": [
    {
     "data": {
      "text/plain": [
       "True"
      ]
     },
     "execution_count": 43,
     "metadata": {},
     "output_type": "execute_result"
    }
   ],
   "source": [
    "isEnglish('This sentence is in English')"
   ]
  },
  {
   "cell_type": "markdown",
   "metadata": {},
   "source": [
    "### Function to remove non english characters from the text:"
   ]
  },
  {
   "cell_type": "code",
   "execution_count": 44,
   "metadata": {
    "execution": {
     "iopub.execute_input": "2022-02-03T20:22:24.553531Z",
     "iopub.status.busy": "2022-02-03T20:22:24.552501Z",
     "iopub.status.idle": "2022-02-03T20:22:24.558258Z",
     "shell.execute_reply": "2022-02-03T20:22:24.557645Z",
     "shell.execute_reply.started": "2022-02-03T20:22:24.553489Z"
    }
   },
   "outputs": [],
   "source": [
    "def removeNonEnglishWords(text):\n",
    "    filteredText = []\n",
    "    for word in text.split():\n",
    "        if isEnglish(word):\n",
    "            filteredText.append(word)\n",
    "    \n",
    "    return \" \".join(filteredText)\n",
    "        "
   ]
  },
  {
   "cell_type": "markdown",
   "metadata": {},
   "source": [
    "#### Validating the function 'removeNonEnglishWords'"
   ]
  },
  {
   "cell_type": "code",
   "execution_count": 45,
   "metadata": {
    "execution": {
     "iopub.execute_input": "2022-02-03T20:22:24.559434Z",
     "iopub.status.busy": "2022-02-03T20:22:24.559232Z",
     "iopub.status.idle": "2022-02-03T20:22:24.568289Z",
     "shell.execute_reply": "2022-02-03T20:22:24.567534Z",
     "shell.execute_reply.started": "2022-02-03T20:22:24.55941Z"
    }
   },
   "outputs": [
    {
     "name": "stdout",
     "output_type": "stream",
     "text": [
      "what was tekoi: tekoi commentary: old version of tekoi: crowdfundersbob kunz, john buchan, nevin spoljaric, donal botkin, bn-12, chris chapin, richard jenkins, phil gardner, martin, steven grimm, david f watson, colin millions, saki comandao, ben schwab, jason lewandowski, marco arment, shantanu raj, rictic, emptymachine, george lin, henry ng, thunda plum, awoo, david tyler, fuesu, iulus, jordan earls, joshua jamison, nick fish, nick gibson, tyler bryant, zach whittle, oliver steele, kermit norlund, kevin costello, derek bonner, derek jackson, mikko , orbit_junkie, ron bowes, bryan mclemore, alex simonides, felix weis, melvin sowah, christopher mutchler, giulio bontadini, paul alom, ryan tripicchio, scot melville, bear, chrysilis, david palomares, emil, erik parasiuk, esteban santana santana, freddi john rogers, leon, peter lomax, rhys parry, shiroiyami, tristan watts-willis, veronica peshterianu, dag viggo john lee, maxime zielony, julien dubois, elizabeth keathley, nicholas welna## musicdavid rees:\n"
     ]
    }
   ],
   "source": [
    "text = \"‣ what was tekoi:  tekoi commentary:   old version of tekoi:  crowdfundersbob kunz, john buchan, nevin spoljaric, donal botkin, bn-12, chris chapin, richard jenkins, phil gardner, martin, steven grimm, سليمان العقل, david f watson, colin millions, saki comandao, ben schwab, jason lewandowski, marco arment, shantanu raj, rictic, emptymachine, george lin, henry ng, thunda plum, awoo, david tyler, fuesu, iulus, jordan earls, joshua jamison, nick fish, nick gibson, tyler bryant, zach whittle, oliver steele, kermit norlund, kevin costello, derek bonner, derek jackson, mikko , orbit_junkie, ron bowes, tómas árni jónasson, bryan mclemore, alex simonides, felix weis, melvin sowah, christopher mutchler, giulio bontadini, paul alom, ryan tripicchio, scot melville, bear, chrysilis, david palomares, emil, erik parasiuk, esteban santana santana, freddi hørlyck, john rogers, leon, peter lomax, rhys parry, shiroiyami, tristan watts-willis, veronica peshterianu, dag viggo lokøen, john lee, maxime zielony, julien dubois, elizabeth keathley, nicholas welna## musicdavid rees:\"\n",
    "print(removeNonEnglishWords(text))"
   ]
  },
  {
   "cell_type": "markdown",
   "metadata": {},
   "source": [
    "#### Creating a flag to check if each record in description is in English"
   ]
  },
  {
   "cell_type": "code",
   "execution_count": 46,
   "metadata": {
    "execution": {
     "iopub.execute_input": "2022-02-03T20:22:24.569901Z",
     "iopub.status.busy": "2022-02-03T20:22:24.569475Z",
     "iopub.status.idle": "2022-02-03T20:22:24.946979Z",
     "shell.execute_reply": "2022-02-03T20:22:24.945904Z",
     "shell.execute_reply.started": "2022-02-03T20:22:24.569861Z"
    }
   },
   "outputs": [],
   "source": [
    "df['isEnglish'] = df.description.apply(lambda s: isEnglish(s))"
   ]
  },
  {
   "cell_type": "code",
   "execution_count": 47,
   "metadata": {
    "execution": {
     "iopub.execute_input": "2022-02-03T20:22:24.948774Z",
     "iopub.status.busy": "2022-02-03T20:22:24.948417Z",
     "iopub.status.idle": "2022-02-03T20:22:24.959014Z",
     "shell.execute_reply": "2022-02-03T20:22:24.958155Z",
     "shell.execute_reply.started": "2022-02-03T20:22:24.94873Z"
    }
   },
   "outputs": [
    {
     "data": {
      "text/plain": [
       "False    257129\n",
       "True     144798\n",
       "Name: isEnglish, dtype: int64"
      ]
     },
     "execution_count": 47,
     "metadata": {},
     "output_type": "execute_result"
    }
   ],
   "source": [
    "df.isEnglish.value_counts()"
   ]
  },
  {
   "cell_type": "markdown",
   "metadata": {},
   "source": [
    "#### False--- indicates the presence of non- English characters in description\n",
    "#### True---- indicates all the words in its description are in English"
   ]
  },
  {
   "cell_type": "code",
   "execution_count": 48,
   "metadata": {
    "execution": {
     "iopub.execute_input": "2022-02-03T20:22:24.960518Z",
     "iopub.status.busy": "2022-02-03T20:22:24.96014Z",
     "iopub.status.idle": "2022-02-03T20:22:25.006481Z",
     "shell.execute_reply": "2022-02-03T20:22:25.005668Z",
     "shell.execute_reply.started": "2022-02-03T20:22:24.960487Z"
    }
   },
   "outputs": [
    {
     "data": {
      "text/plain": [
       "0         SUBSCRIBE to BRAWADIS ▶ http://bit.ly/Subscrib...\n",
       "1         While running her own modding shop, Ramya Pare...\n",
       "2         I left youtube for a month and this is what ha...\n",
       "3         Subscribe to XXL → http://bit.ly/subscribe-xxl...\n",
       "5         Subscribe To My Channel - https://www.youtube....\n",
       "                                ...                        \n",
       "401919    Undercover in a 100 player Fortnite hide and s...\n",
       "401920    NCT DREAM's 2nd album repackage Beatbox is out...\n",
       "401923    ►How I Stole Max Hearts On This Minecraft SMP....\n",
       "401925    Welcome your faces back to a new dawn and a ne...\n",
       "401926    Thanks to ExpressVPN for sponsoring this video...\n",
       "Name: description, Length: 257129, dtype: object"
      ]
     },
     "execution_count": 48,
     "metadata": {},
     "output_type": "execute_result"
    }
   ],
   "source": [
    "df[df.isEnglish==False].description"
   ]
  },
  {
   "cell_type": "markdown",
   "metadata": {},
   "source": [
    "#### adding a new feature des (with cleaned description ) into the dataframe"
   ]
  },
  {
   "cell_type": "code",
   "execution_count": 49,
   "metadata": {
    "execution": {
     "iopub.execute_input": "2022-02-03T20:22:25.008317Z",
     "iopub.status.busy": "2022-02-03T20:22:25.008023Z",
     "iopub.status.idle": "2022-02-03T20:22:39.245273Z",
     "shell.execute_reply": "2022-02-03T20:22:39.244239Z",
     "shell.execute_reply.started": "2022-02-03T20:22:25.008278Z"
    }
   },
   "outputs": [],
   "source": [
    "df['des']= df.description.apply(removeNonEnglishWords)"
   ]
  },
  {
   "cell_type": "code",
   "execution_count": 50,
   "metadata": {
    "execution": {
     "iopub.execute_input": "2022-02-03T20:22:39.246878Z",
     "iopub.status.busy": "2022-02-03T20:22:39.246467Z",
     "iopub.status.idle": "2022-02-03T20:22:39.411512Z",
     "shell.execute_reply": "2022-02-03T20:22:39.41072Z",
     "shell.execute_reply.started": "2022-02-03T20:22:39.246843Z"
    }
   },
   "outputs": [
    {
     "data": {
      "text/html": [
       "<div>\n",
       "<style scoped>\n",
       "    .dataframe tbody tr th:only-of-type {\n",
       "        vertical-align: middle;\n",
       "    }\n",
       "\n",
       "    .dataframe tbody tr th {\n",
       "        vertical-align: top;\n",
       "    }\n",
       "\n",
       "    .dataframe thead th {\n",
       "        text-align: right;\n",
       "    }\n",
       "</style>\n",
       "<table border=\"1\" class=\"dataframe\">\n",
       "  <thead>\n",
       "    <tr style=\"text-align: right;\">\n",
       "      <th></th>\n",
       "      <th>description</th>\n",
       "      <th>des</th>\n",
       "    </tr>\n",
       "  </thead>\n",
       "  <tbody>\n",
       "    <tr>\n",
       "      <th>60552</th>\n",
       "      <td>1,000 DAYS HARDCORE VIDEO: https://youtu.be/Mh...</td>\n",
       "      <td>1,000 DAYS HARDCORE VIDEO: Here: a LIKE if you...</td>\n",
       "    </tr>\n",
       "    <tr>\n",
       "      <th>165729</th>\n",
       "      <td>Downfalls High. Premiering January 15, 2021 at...</td>\n",
       "      <td>Downfalls High. Premiering January 15, 2021 at...</td>\n",
       "    </tr>\n",
       "    <tr>\n",
       "      <th>37413</th>\n",
       "      <td>She may be a small town girl, but she’s got a ...</td>\n",
       "      <td>She may be a small town girl, but got a big vo...</td>\n",
       "    </tr>\n",
       "    <tr>\n",
       "      <th>146283</th>\n",
       "      <td>A DEMON IN 6LUE Out Now: https://LilLoaded.lnk...</td>\n",
       "      <td>A DEMON IN 6LUE Out Now: https://LilLoaded.lnk...</td>\n",
       "    </tr>\n",
       "    <tr>\n",
       "      <th>36951</th>\n",
       "      <td>How to Complete the Hog Mountain Challenge in ...</td>\n",
       "      <td>How to Complete the Hog Mountain Challenge in ...</td>\n",
       "    </tr>\n",
       "  </tbody>\n",
       "</table>\n",
       "</div>"
      ],
      "text/plain": [
       "                                              description  \\\n",
       "60552   1,000 DAYS HARDCORE VIDEO: https://youtu.be/Mh...   \n",
       "165729  Downfalls High. Premiering January 15, 2021 at...   \n",
       "37413   She may be a small town girl, but she’s got a ...   \n",
       "146283  A DEMON IN 6LUE Out Now: https://LilLoaded.lnk...   \n",
       "36951   How to Complete the Hog Mountain Challenge in ...   \n",
       "\n",
       "                                                      des  \n",
       "60552   1,000 DAYS HARDCORE VIDEO: Here: a LIKE if you...  \n",
       "165729  Downfalls High. Premiering January 15, 2021 at...  \n",
       "37413   She may be a small town girl, but got a big vo...  \n",
       "146283  A DEMON IN 6LUE Out Now: https://LilLoaded.lnk...  \n",
       "36951   How to Complete the Hog Mountain Challenge in ...  "
      ]
     },
     "execution_count": 50,
     "metadata": {},
     "output_type": "execute_result"
    }
   ],
   "source": [
    "df[['description','des']].sample(5)"
   ]
  },
  {
   "cell_type": "markdown",
   "metadata": {},
   "source": [
    "#### From the above code, des column has only the words in that are in English .So it is safe to drop Description and isEnglish(flag) column."
   ]
  },
  {
   "cell_type": "code",
   "execution_count": 51,
   "metadata": {
    "execution": {
     "iopub.execute_input": "2022-02-03T20:22:39.412973Z",
     "iopub.status.busy": "2022-02-03T20:22:39.412766Z",
     "iopub.status.idle": "2022-02-03T20:22:39.469243Z",
     "shell.execute_reply": "2022-02-03T20:22:39.468372Z",
     "shell.execute_reply.started": "2022-02-03T20:22:39.412949Z"
    }
   },
   "outputs": [],
   "source": [
    "df.drop(columns=['description','isEnglish'],axis=1,inplace=True)"
   ]
  },
  {
   "cell_type": "markdown",
   "metadata": {},
   "source": [
    "#### Now applying the same logic on tags, title and channel_title  columns to ensure the presence of just English words"
   ]
  },
  {
   "cell_type": "markdown",
   "metadata": {},
   "source": [
    "##### Tags cleaning:"
   ]
  },
  {
   "cell_type": "code",
   "execution_count": 52,
   "metadata": {
    "execution": {
     "iopub.execute_input": "2022-02-03T20:22:39.471079Z",
     "iopub.status.busy": "2022-02-03T20:22:39.470624Z",
     "iopub.status.idle": "2022-02-03T20:22:39.624265Z",
     "shell.execute_reply": "2022-02-03T20:22:39.623722Z",
     "shell.execute_reply.started": "2022-02-03T20:22:39.471048Z"
    }
   },
   "outputs": [
    {
     "data": {
      "text/plain": [
       "31726"
      ]
     },
     "execution_count": 52,
     "metadata": {},
     "output_type": "execute_result"
    }
   ],
   "source": [
    "df['isEnglish'] = df.tags.apply(lambda s: isEnglish(s))\n",
    "df[df.isEnglish==False].tags.count()# finding the number of tags that consists of non english characters"
   ]
  },
  {
   "cell_type": "markdown",
   "metadata": {},
   "source": [
    "##### adding a new feature c_tags (with cleaned tags ) into the dataframe"
   ]
  },
  {
   "cell_type": "code",
   "execution_count": 53,
   "metadata": {
    "execution": {
     "iopub.execute_input": "2022-02-03T20:22:39.625635Z",
     "iopub.status.busy": "2022-02-03T20:22:39.625125Z",
     "iopub.status.idle": "2022-02-03T20:22:41.790506Z",
     "shell.execute_reply": "2022-02-03T20:22:41.789681Z",
     "shell.execute_reply.started": "2022-02-03T20:22:39.625606Z"
    }
   },
   "outputs": [],
   "source": [
    "df['c_tags']= df.tags.apply(removeNonEnglishWords)"
   ]
  },
  {
   "cell_type": "markdown",
   "metadata": {},
   "source": [
    "Now, the c_tags column has just the english words from tags column. hence, it is safe to drop isEnglish and tags columns from df"
   ]
  },
  {
   "cell_type": "code",
   "execution_count": 54,
   "metadata": {
    "execution": {
     "iopub.execute_input": "2022-02-03T20:22:41.791866Z",
     "iopub.status.busy": "2022-02-03T20:22:41.791602Z",
     "iopub.status.idle": "2022-02-03T20:22:41.970207Z",
     "shell.execute_reply": "2022-02-03T20:22:41.969459Z",
     "shell.execute_reply.started": "2022-02-03T20:22:41.791837Z"
    }
   },
   "outputs": [],
   "source": [
    "df.drop(columns=['isEnglish','tags'],axis=1,inplace=True)"
   ]
  },
  {
   "cell_type": "markdown",
   "metadata": {},
   "source": [
    "##### Title(video title)"
   ]
  },
  {
   "cell_type": "code",
   "execution_count": 55,
   "metadata": {
    "execution": {
     "iopub.execute_input": "2022-02-03T20:22:41.971376Z",
     "iopub.status.busy": "2022-02-03T20:22:41.971184Z",
     "iopub.status.idle": "2022-02-03T20:22:42.140976Z",
     "shell.execute_reply": "2022-02-03T20:22:42.140003Z",
     "shell.execute_reply.started": "2022-02-03T20:22:41.971353Z"
    }
   },
   "outputs": [
    {
     "data": {
      "text/plain": [
       "60210"
      ]
     },
     "execution_count": 55,
     "metadata": {},
     "output_type": "execute_result"
    }
   ],
   "source": [
    "df['isEnglish'] = df.title.apply(lambda s: isEnglish(s))\n",
    "df[df.isEnglish==False].title.count()"
   ]
  },
  {
   "cell_type": "code",
   "execution_count": 56,
   "metadata": {
    "execution": {
     "iopub.execute_input": "2022-02-03T20:22:42.143146Z",
     "iopub.status.busy": "2022-02-03T20:22:42.142332Z",
     "iopub.status.idle": "2022-02-03T20:22:43.274387Z",
     "shell.execute_reply": "2022-02-03T20:22:43.273643Z",
     "shell.execute_reply.started": "2022-02-03T20:22:42.1431Z"
    }
   },
   "outputs": [],
   "source": [
    "df['c_title']= df.title.apply(removeNonEnglishWords)"
   ]
  },
  {
   "cell_type": "markdown",
   "metadata": {},
   "source": [
    "#### The above code has cleaned tilte column and stored into c_title column and hence we are dropping isEnglish and tiltle column from df"
   ]
  },
  {
   "cell_type": "code",
   "execution_count": 57,
   "metadata": {
    "execution": {
     "iopub.execute_input": "2022-02-03T20:22:43.275868Z",
     "iopub.status.busy": "2022-02-03T20:22:43.275643Z",
     "iopub.status.idle": "2022-02-03T20:22:43.446123Z",
     "shell.execute_reply": "2022-02-03T20:22:43.44543Z",
     "shell.execute_reply.started": "2022-02-03T20:22:43.275836Z"
    }
   },
   "outputs": [],
   "source": [
    "df.drop(columns=['isEnglish','title'],axis=1,inplace=True)"
   ]
  },
  {
   "cell_type": "markdown",
   "metadata": {},
   "source": [
    "##### Channel_Title"
   ]
  },
  {
   "cell_type": "code",
   "execution_count": 58,
   "metadata": {
    "execution": {
     "iopub.execute_input": "2022-02-03T20:22:43.447502Z",
     "iopub.status.busy": "2022-02-03T20:22:43.447298Z",
     "iopub.status.idle": "2022-02-03T20:22:43.567502Z",
     "shell.execute_reply": "2022-02-03T20:22:43.566849Z",
     "shell.execute_reply.started": "2022-02-03T20:22:43.447478Z"
    }
   },
   "outputs": [
    {
     "data": {
      "text/plain": [
       "5483"
      ]
     },
     "execution_count": 58,
     "metadata": {},
     "output_type": "execute_result"
    }
   ],
   "source": [
    "df['isEnglish'] = df.channelTitle.apply(lambda s: isEnglish(s))\n",
    "df[df.isEnglish==False].channelTitle.count()"
   ]
  },
  {
   "cell_type": "code",
   "execution_count": 59,
   "metadata": {
    "execution": {
     "iopub.execute_input": "2022-02-03T20:22:43.568908Z",
     "iopub.status.busy": "2022-02-03T20:22:43.56867Z",
     "iopub.status.idle": "2022-02-03T20:22:43.882133Z",
     "shell.execute_reply": "2022-02-03T20:22:43.881423Z",
     "shell.execute_reply.started": "2022-02-03T20:22:43.568883Z"
    }
   },
   "outputs": [],
   "source": [
    "df['channel_title']= df.channelTitle.apply(removeNonEnglishWords)"
   ]
  },
  {
   "cell_type": "markdown",
   "metadata": {},
   "source": [
    "#### Dropping off isEnglish and channelTitle columns and keeping the cleaned channel_title"
   ]
  },
  {
   "cell_type": "code",
   "execution_count": 60,
   "metadata": {
    "execution": {
     "iopub.execute_input": "2022-02-03T20:22:43.883525Z",
     "iopub.status.busy": "2022-02-03T20:22:43.883331Z",
     "iopub.status.idle": "2022-02-03T20:22:44.026578Z",
     "shell.execute_reply": "2022-02-03T20:22:44.025898Z",
     "shell.execute_reply.started": "2022-02-03T20:22:43.883501Z"
    }
   },
   "outputs": [],
   "source": [
    "df.drop(columns=['channelTitle','isEnglish'],axis=1,inplace=True)"
   ]
  },
  {
   "cell_type": "markdown",
   "metadata": {},
   "source": [
    "### Removing links and converting all the relevant text columns to lowercase"
   ]
  },
  {
   "cell_type": "code",
   "execution_count": 61,
   "metadata": {
    "execution": {
     "iopub.execute_input": "2022-02-03T20:22:44.027881Z",
     "iopub.status.busy": "2022-02-03T20:22:44.027567Z",
     "iopub.status.idle": "2022-02-03T20:22:57.636838Z",
     "shell.execute_reply": "2022-02-03T20:22:57.636095Z",
     "shell.execute_reply.started": "2022-02-03T20:22:44.027845Z"
    }
   },
   "outputs": [],
   "source": [
    "#remove links from the description\n",
    "df.des= df.des.str.replace('http\\S+|www.\\S+',''\\\n",
    "                                     ,regex=True).str.replace('\\r+',''\\\n",
    "                                     ,regex= True).str.lower()\n",
    "#removing Punctuation from description\n",
    "df.des = df.des.str.replace(r'[^\\w\\s]+', '')"
   ]
  },
  {
   "cell_type": "code",
   "execution_count": 62,
   "metadata": {
    "execution": {
     "iopub.execute_input": "2022-02-03T20:22:57.638103Z",
     "iopub.status.busy": "2022-02-03T20:22:57.637909Z",
     "iopub.status.idle": "2022-02-03T20:23:00.566389Z",
     "shell.execute_reply": "2022-02-03T20:23:00.565573Z",
     "shell.execute_reply.started": "2022-02-03T20:22:57.63808Z"
    }
   },
   "outputs": [
    {
     "data": {
      "text/html": [
       "<div>\n",
       "<style scoped>\n",
       "    .dataframe tbody tr th:only-of-type {\n",
       "        vertical-align: middle;\n",
       "    }\n",
       "\n",
       "    .dataframe tbody tr th {\n",
       "        vertical-align: top;\n",
       "    }\n",
       "\n",
       "    .dataframe thead th {\n",
       "        text-align: right;\n",
       "    }\n",
       "</style>\n",
       "<table border=\"1\" class=\"dataframe\">\n",
       "  <thead>\n",
       "    <tr style=\"text-align: right;\">\n",
       "      <th></th>\n",
       "      <th>video_id</th>\n",
       "      <th>publishedAt</th>\n",
       "      <th>categoryId</th>\n",
       "      <th>trending_date</th>\n",
       "      <th>view_count</th>\n",
       "      <th>likes</th>\n",
       "      <th>dislikes</th>\n",
       "      <th>comment_count</th>\n",
       "      <th>thumbnail_link</th>\n",
       "      <th>category_name</th>\n",
       "      <th>country</th>\n",
       "      <th>des</th>\n",
       "      <th>c_tags</th>\n",
       "      <th>c_title</th>\n",
       "      <th>channel_title</th>\n",
       "    </tr>\n",
       "  </thead>\n",
       "  <tbody>\n",
       "  </tbody>\n",
       "</table>\n",
       "</div>"
      ],
      "text/plain": [
       "Empty DataFrame\n",
       "Columns: [video_id, publishedAt, categoryId, trending_date, view_count, likes, dislikes, comment_count, thumbnail_link, category_name, country, des, c_tags, c_title, channel_title]\n",
       "Index: []"
      ]
     },
     "execution_count": 62,
     "metadata": {},
     "output_type": "execute_result"
    }
   ],
   "source": [
    "#replacing | from tags with a space and converting the text to lowercase\n",
    "df.c_tags= df.c_tags.str.replace('|', ' ').str.lower()\n",
    "#removing punctuation if any from tags\n",
    "df.c_tags = df.c_tags.str.replace(r'[^\\w\\s]+', '')\n",
    "#Replacing None in tags to ''\n",
    "df.c_tags = df.c_tags.str.replace('none','')\n",
    "df[df.c_tags=='none'].head(1)"
   ]
  },
  {
   "cell_type": "code",
   "execution_count": 63,
   "metadata": {
    "execution": {
     "iopub.execute_input": "2022-02-03T20:23:00.568254Z",
     "iopub.status.busy": "2022-02-03T20:23:00.56777Z",
     "iopub.status.idle": "2022-02-03T20:23:02.402797Z",
     "shell.execute_reply": "2022-02-03T20:23:02.401892Z",
     "shell.execute_reply.started": "2022-02-03T20:23:00.56821Z"
    }
   },
   "outputs": [],
   "source": [
    "#replacing | from title with a space and converting the text to lowercase\n",
    "df.c_title= df.c_title.str.replace('|', ' ').str.lower()\n",
    "#remove links from the title\n",
    "df.c_title= df.c_title.str.replace('http\\S+|www.\\S+',''\\\n",
    "                                     ,regex=True).str.replace('\\r+',''\\\n",
    "                                     ,regex= True).str.lower()\n",
    "#removing punctuation if any from title\n",
    "df.c_title = df.c_title.str.replace(r'[^\\w\\s]+', '')"
   ]
  },
  {
   "cell_type": "code",
   "execution_count": 64,
   "metadata": {
    "execution": {
     "iopub.execute_input": "2022-02-03T20:23:02.404154Z",
     "iopub.status.busy": "2022-02-03T20:23:02.403937Z",
     "iopub.status.idle": "2022-02-03T20:23:02.811187Z",
     "shell.execute_reply": "2022-02-03T20:23:02.810452Z",
     "shell.execute_reply.started": "2022-02-03T20:23:02.404126Z"
    }
   },
   "outputs": [],
   "source": [
    "#replacing | from channel_title with a space \n",
    "df.channel_title= df.channel_title.str.replace('|', ' ')\n",
    "#removing punctuation if any from title\n",
    "df.channel_title = df.channel_title.str.replace(r'[^\\w\\s]+', '')"
   ]
  },
  {
   "cell_type": "code",
   "execution_count": 65,
   "metadata": {
    "execution": {
     "iopub.execute_input": "2022-02-03T20:23:02.812495Z",
     "iopub.status.busy": "2022-02-03T20:23:02.812291Z",
     "iopub.status.idle": "2022-02-03T20:23:02.99794Z",
     "shell.execute_reply": "2022-02-03T20:23:02.996964Z",
     "shell.execute_reply.started": "2022-02-03T20:23:02.812471Z"
    }
   },
   "outputs": [
    {
     "data": {
      "text/plain": [
       "0"
      ]
     },
     "execution_count": 65,
     "metadata": {},
     "output_type": "execute_result"
    }
   ],
   "source": [
    "df.isna().any().sum()"
   ]
  },
  {
   "cell_type": "markdown",
   "metadata": {},
   "source": [
    "### With this step all the text columns are cleaned to be in English and lower case without any links or puntuation or special characters in them."
   ]
  },
  {
   "cell_type": "code",
   "execution_count": 66,
   "metadata": {
    "execution": {
     "iopub.execute_input": "2022-02-03T20:23:02.999414Z",
     "iopub.status.busy": "2022-02-03T20:23:02.999009Z",
     "iopub.status.idle": "2022-02-03T20:23:03.021644Z",
     "shell.execute_reply": "2022-02-03T20:23:03.020255Z",
     "shell.execute_reply.started": "2022-02-03T20:23:02.999252Z"
    }
   },
   "outputs": [
    {
     "data": {
      "text/html": [
       "<div>\n",
       "<style scoped>\n",
       "    .dataframe tbody tr th:only-of-type {\n",
       "        vertical-align: middle;\n",
       "    }\n",
       "\n",
       "    .dataframe tbody tr th {\n",
       "        vertical-align: top;\n",
       "    }\n",
       "\n",
       "    .dataframe thead th {\n",
       "        text-align: right;\n",
       "    }\n",
       "</style>\n",
       "<table border=\"1\" class=\"dataframe\">\n",
       "  <thead>\n",
       "    <tr style=\"text-align: right;\">\n",
       "      <th></th>\n",
       "      <th>video_id</th>\n",
       "      <th>publishedAt</th>\n",
       "      <th>categoryId</th>\n",
       "      <th>trending_date</th>\n",
       "      <th>view_count</th>\n",
       "      <th>likes</th>\n",
       "      <th>dislikes</th>\n",
       "      <th>comment_count</th>\n",
       "      <th>thumbnail_link</th>\n",
       "      <th>category_name</th>\n",
       "      <th>country</th>\n",
       "      <th>des</th>\n",
       "      <th>c_tags</th>\n",
       "      <th>c_title</th>\n",
       "      <th>channel_title</th>\n",
       "    </tr>\n",
       "  </thead>\n",
       "  <tbody>\n",
       "    <tr>\n",
       "      <th>370483</th>\n",
       "      <td>p9cCrwKhjGs</td>\n",
       "      <td>2021-12-23T23:00:10Z</td>\n",
       "      <td>10</td>\n",
       "      <td>2022-01-02T00:00:00Z</td>\n",
       "      <td>11198316</td>\n",
       "      <td>166448</td>\n",
       "      <td>0</td>\n",
       "      <td>5829</td>\n",
       "      <td>https://i.ytimg.com/vi/p9cCrwKhjGs/default.jpg</td>\n",
       "      <td>Music</td>\n",
       "      <td>Great Britain</td>\n",
       "      <td>stream or download here  produced by lipa sbs ...</td>\n",
       "      <td>butrint imeri corazon butrint imeri korazon co...</td>\n",
       "      <td>butrint imeri ft don xhoni  corazon</td>\n",
       "      <td>AVD Digital</td>\n",
       "    </tr>\n",
       "    <tr>\n",
       "      <th>343975</th>\n",
       "      <td>Z-5FQVspXeU</td>\n",
       "      <td>2021-08-19T16:37:39Z</td>\n",
       "      <td>20</td>\n",
       "      <td>2021-08-21T00:00:00Z</td>\n",
       "      <td>1185784</td>\n",
       "      <td>88465</td>\n",
       "      <td>311</td>\n",
       "      <td>7223</td>\n",
       "      <td>https://i.ytimg.com/vi/Z-5FQVspXeU/default.jpg</td>\n",
       "      <td>Gaming</td>\n",
       "      <td>Great Britain</td>\n",
       "      <td>please boop the like button if you enjoy the v...</td>\n",
       "      <td>ldshadowlady minecraft mini game girl gamer pi...</td>\n",
       "      <td>royal wedding   ep 11   minecraft empires 117</td>\n",
       "      <td>LDShadowLady</td>\n",
       "    </tr>\n",
       "  </tbody>\n",
       "</table>\n",
       "</div>"
      ],
      "text/plain": [
       "           video_id           publishedAt  categoryId         trending_date  \\\n",
       "370483  p9cCrwKhjGs  2021-12-23T23:00:10Z          10  2022-01-02T00:00:00Z   \n",
       "343975  Z-5FQVspXeU  2021-08-19T16:37:39Z          20  2021-08-21T00:00:00Z   \n",
       "\n",
       "        view_count   likes  dislikes  comment_count  \\\n",
       "370483    11198316  166448         0           5829   \n",
       "343975     1185784   88465       311           7223   \n",
       "\n",
       "                                        thumbnail_link category_name  \\\n",
       "370483  https://i.ytimg.com/vi/p9cCrwKhjGs/default.jpg         Music   \n",
       "343975  https://i.ytimg.com/vi/Z-5FQVspXeU/default.jpg        Gaming   \n",
       "\n",
       "              country                                                des  \\\n",
       "370483  Great Britain  stream or download here  produced by lipa sbs ...   \n",
       "343975  Great Britain  please boop the like button if you enjoy the v...   \n",
       "\n",
       "                                                   c_tags  \\\n",
       "370483  butrint imeri corazon butrint imeri korazon co...   \n",
       "343975  ldshadowlady minecraft mini game girl gamer pi...   \n",
       "\n",
       "                                              c_title channel_title  \n",
       "370483            butrint imeri ft don xhoni  corazon   AVD Digital  \n",
       "343975  royal wedding   ep 11   minecraft empires 117  LDShadowLady  "
      ]
     },
     "execution_count": 66,
     "metadata": {},
     "output_type": "execute_result"
    }
   ],
   "source": [
    "df.sample(2)"
   ]
  },
  {
   "cell_type": "markdown",
   "metadata": {},
   "source": [
    "### Converting Datatypes for Analysis\n"
   ]
  },
  {
   "cell_type": "code",
   "execution_count": 67,
   "metadata": {
    "execution": {
     "iopub.execute_input": "2022-02-03T20:23:03.023261Z",
     "iopub.status.busy": "2022-02-03T20:23:03.022969Z",
     "iopub.status.idle": "2022-02-03T20:23:03.031193Z",
     "shell.execute_reply": "2022-02-03T20:23:03.030601Z",
     "shell.execute_reply.started": "2022-02-03T20:23:03.02322Z"
    }
   },
   "outputs": [
    {
     "data": {
      "text/plain": [
       "video_id          object\n",
       "publishedAt       object\n",
       "categoryId         int64\n",
       "trending_date     object\n",
       "view_count         int64\n",
       "likes              int64\n",
       "dislikes           int64\n",
       "comment_count      int64\n",
       "thumbnail_link    object\n",
       "category_name     object\n",
       "country           object\n",
       "des               object\n",
       "c_tags            object\n",
       "c_title           object\n",
       "channel_title     object\n",
       "dtype: object"
      ]
     },
     "execution_count": 67,
     "metadata": {},
     "output_type": "execute_result"
    }
   ],
   "source": [
    "df.dtypes"
   ]
  },
  {
   "cell_type": "markdown",
   "metadata": {},
   "source": [
    "#### 1. Converting published_at, trending_date to datetime and removing time zones\n",
    "#### 2. Converting country to category"
   ]
  },
  {
   "cell_type": "code",
   "execution_count": 68,
   "metadata": {
    "execution": {
     "iopub.execute_input": "2022-02-03T20:23:03.033139Z",
     "iopub.status.busy": "2022-02-03T20:23:03.032416Z",
     "iopub.status.idle": "2022-02-03T20:23:03.308145Z",
     "shell.execute_reply": "2022-02-03T20:23:03.307181Z",
     "shell.execute_reply.started": "2022-02-03T20:23:03.033094Z"
    }
   },
   "outputs": [],
   "source": [
    "df['publishedAt']=pd.to_datetime(df.publishedAt)\n",
    "df['publishedAt'] = df['publishedAt'].dt.tz_convert(None)\n",
    "df['trending_date']=pd.to_datetime(df.trending_date)\n",
    "df['trending_date'] = df['trending_date'].dt.tz_convert(None)\n",
    "df['country']= df['country'].astype('category')"
   ]
  },
  {
   "cell_type": "code",
   "execution_count": 69,
   "metadata": {
    "execution": {
     "iopub.execute_input": "2022-02-03T20:23:03.309663Z",
     "iopub.status.busy": "2022-02-03T20:23:03.30943Z",
     "iopub.status.idle": "2022-02-03T20:23:03.317301Z",
     "shell.execute_reply": "2022-02-03T20:23:03.316433Z",
     "shell.execute_reply.started": "2022-02-03T20:23:03.309634Z"
    }
   },
   "outputs": [
    {
     "data": {
      "text/plain": [
       "video_id                  object\n",
       "publishedAt       datetime64[ns]\n",
       "categoryId                 int64\n",
       "trending_date     datetime64[ns]\n",
       "view_count                 int64\n",
       "likes                      int64\n",
       "dislikes                   int64\n",
       "comment_count              int64\n",
       "thumbnail_link            object\n",
       "category_name             object\n",
       "country                 category\n",
       "des                       object\n",
       "c_tags                    object\n",
       "c_title                   object\n",
       "channel_title             object\n",
       "dtype: object"
      ]
     },
     "execution_count": 69,
     "metadata": {},
     "output_type": "execute_result"
    }
   ],
   "source": [
    "df.dtypes"
   ]
  },
  {
   "cell_type": "code",
   "execution_count": 70,
   "metadata": {
    "execution": {
     "iopub.execute_input": "2022-02-03T20:23:03.318765Z",
     "iopub.status.busy": "2022-02-03T20:23:03.31843Z",
     "iopub.status.idle": "2022-02-03T20:23:03.470675Z",
     "shell.execute_reply": "2022-02-03T20:23:03.469762Z",
     "shell.execute_reply.started": "2022-02-03T20:23:03.318735Z"
    }
   },
   "outputs": [
    {
     "data": {
      "text/plain": [
       "0"
      ]
     },
     "execution_count": 70,
     "metadata": {},
     "output_type": "execute_result"
    }
   ],
   "source": [
    "df.isna().any().sum()"
   ]
  },
  {
   "cell_type": "markdown",
   "metadata": {},
   "source": [
    "### Rename the columns for easier understanding and uniformity"
   ]
  },
  {
   "cell_type": "code",
   "execution_count": 71,
   "metadata": {
    "execution": {
     "iopub.execute_input": "2022-02-03T20:23:03.472112Z",
     "iopub.status.busy": "2022-02-03T20:23:03.471922Z",
     "iopub.status.idle": "2022-02-03T20:23:03.476425Z",
     "shell.execute_reply": "2022-02-03T20:23:03.475674Z",
     "shell.execute_reply.started": "2022-02-03T20:23:03.47209Z"
    }
   },
   "outputs": [],
   "source": [
    "df.rename(columns={\"publishedAt\": \"published_at\",\"categoryId\" : \"category_id\"\\\n",
    "                   ,'des':'description','c_tags':'tags','c_title':'video_title'}, inplace = True)"
   ]
  },
  {
   "cell_type": "code",
   "execution_count": 72,
   "metadata": {
    "execution": {
     "iopub.execute_input": "2022-02-03T20:23:03.477966Z",
     "iopub.status.busy": "2022-02-03T20:23:03.477671Z",
     "iopub.status.idle": "2022-02-03T20:23:03.498014Z",
     "shell.execute_reply": "2022-02-03T20:23:03.497083Z",
     "shell.execute_reply.started": "2022-02-03T20:23:03.477929Z"
    }
   },
   "outputs": [
    {
     "data": {
      "text/html": [
       "<div>\n",
       "<style scoped>\n",
       "    .dataframe tbody tr th:only-of-type {\n",
       "        vertical-align: middle;\n",
       "    }\n",
       "\n",
       "    .dataframe tbody tr th {\n",
       "        vertical-align: top;\n",
       "    }\n",
       "\n",
       "    .dataframe thead th {\n",
       "        text-align: right;\n",
       "    }\n",
       "</style>\n",
       "<table border=\"1\" class=\"dataframe\">\n",
       "  <thead>\n",
       "    <tr style=\"text-align: right;\">\n",
       "      <th></th>\n",
       "      <th>video_id</th>\n",
       "      <th>published_at</th>\n",
       "      <th>category_id</th>\n",
       "      <th>trending_date</th>\n",
       "      <th>view_count</th>\n",
       "      <th>likes</th>\n",
       "      <th>dislikes</th>\n",
       "      <th>comment_count</th>\n",
       "      <th>thumbnail_link</th>\n",
       "      <th>category_name</th>\n",
       "      <th>country</th>\n",
       "      <th>description</th>\n",
       "      <th>tags</th>\n",
       "      <th>video_title</th>\n",
       "      <th>channel_title</th>\n",
       "    </tr>\n",
       "  </thead>\n",
       "  <tbody>\n",
       "    <tr>\n",
       "      <th>0</th>\n",
       "      <td>3C66w5Z0ixs</td>\n",
       "      <td>2020-08-11 19:20:14</td>\n",
       "      <td>22</td>\n",
       "      <td>2020-08-12</td>\n",
       "      <td>1514614</td>\n",
       "      <td>156908</td>\n",
       "      <td>5855</td>\n",
       "      <td>35313</td>\n",
       "      <td>https://i.ytimg.com/vi/3C66w5Z0ixs/default.jpg</td>\n",
       "      <td>People &amp; Blogs</td>\n",
       "      <td>USA</td>\n",
       "      <td>subscribe to brawadis  follow me on social twi...</td>\n",
       "      <td>brawadis prank basketball skits ghost funny vi...</td>\n",
       "      <td>i asked her to be my girlfriend</td>\n",
       "      <td>Brawadis</td>\n",
       "    </tr>\n",
       "  </tbody>\n",
       "</table>\n",
       "</div>"
      ],
      "text/plain": [
       "      video_id        published_at  category_id trending_date  view_count  \\\n",
       "0  3C66w5Z0ixs 2020-08-11 19:20:14           22    2020-08-12     1514614   \n",
       "\n",
       "    likes  dislikes  comment_count  \\\n",
       "0  156908      5855          35313   \n",
       "\n",
       "                                   thumbnail_link   category_name country  \\\n",
       "0  https://i.ytimg.com/vi/3C66w5Z0ixs/default.jpg  People & Blogs     USA   \n",
       "\n",
       "                                         description  \\\n",
       "0  subscribe to brawadis  follow me on social twi...   \n",
       "\n",
       "                                                tags  \\\n",
       "0  brawadis prank basketball skits ghost funny vi...   \n",
       "\n",
       "                       video_title channel_title  \n",
       "0  i asked her to be my girlfriend      Brawadis  "
      ]
     },
     "execution_count": 72,
     "metadata": {},
     "output_type": "execute_result"
    }
   ],
   "source": [
    "df.head(1)"
   ]
  },
  {
   "cell_type": "markdown",
   "metadata": {},
   "source": [
    "### Data Correctness"
   ]
  },
  {
   "cell_type": "markdown",
   "metadata": {},
   "source": [
    "###  We observed few records with likes and dislikes greater than  view_count, which is practically impossible.\n",
    "##### Dropping records with likes > view_count."
   ]
  },
  {
   "cell_type": "code",
   "execution_count": 73,
   "metadata": {
    "execution": {
     "iopub.execute_input": "2022-02-03T20:23:03.500015Z",
     "iopub.status.busy": "2022-02-03T20:23:03.499456Z",
     "iopub.status.idle": "2022-02-03T20:23:03.520714Z",
     "shell.execute_reply": "2022-02-03T20:23:03.51988Z",
     "shell.execute_reply.started": "2022-02-03T20:23:03.499971Z"
    }
   },
   "outputs": [
    {
     "data": {
      "text/html": [
       "<div>\n",
       "<style scoped>\n",
       "    .dataframe tbody tr th:only-of-type {\n",
       "        vertical-align: middle;\n",
       "    }\n",
       "\n",
       "    .dataframe tbody tr th {\n",
       "        vertical-align: top;\n",
       "    }\n",
       "\n",
       "    .dataframe thead th {\n",
       "        text-align: right;\n",
       "    }\n",
       "</style>\n",
       "<table border=\"1\" class=\"dataframe\">\n",
       "  <thead>\n",
       "    <tr style=\"text-align: right;\">\n",
       "      <th></th>\n",
       "      <th>video_id</th>\n",
       "      <th>published_at</th>\n",
       "      <th>category_id</th>\n",
       "      <th>trending_date</th>\n",
       "      <th>view_count</th>\n",
       "      <th>likes</th>\n",
       "      <th>dislikes</th>\n",
       "      <th>comment_count</th>\n",
       "      <th>thumbnail_link</th>\n",
       "      <th>category_name</th>\n",
       "      <th>country</th>\n",
       "      <th>description</th>\n",
       "      <th>tags</th>\n",
       "      <th>video_title</th>\n",
       "      <th>channel_title</th>\n",
       "    </tr>\n",
       "  </thead>\n",
       "  <tbody>\n",
       "    <tr>\n",
       "      <th>15289</th>\n",
       "      <td>r7nYQXsxJdU</td>\n",
       "      <td>2020-10-25 01:40:31</td>\n",
       "      <td>24</td>\n",
       "      <td>2020-10-27</td>\n",
       "      <td>0</td>\n",
       "      <td>4257</td>\n",
       "      <td>384</td>\n",
       "      <td>240</td>\n",
       "      <td>https://i.ytimg.com/vi/r7nYQXsxJdU/default.jpg</td>\n",
       "      <td>Entertainment</td>\n",
       "      <td>USA</td>\n",
       "      <td>hbcu homecoming 2020 is going down we welcome ...</td>\n",
       "      <td>2 chainz desi banks lionel richie  lance gross...</td>\n",
       "      <td>hbcu homecoming 2020 meet me on the yard</td>\n",
       "      <td>YouTube Originals</td>\n",
       "    </tr>\n",
       "    <tr>\n",
       "      <th>74267</th>\n",
       "      <td>Hb3rmh-_FMw</td>\n",
       "      <td>2021-08-10 15:04:25</td>\n",
       "      <td>27</td>\n",
       "      <td>2021-08-12</td>\n",
       "      <td>0</td>\n",
       "      <td>18653</td>\n",
       "      <td>1545</td>\n",
       "      <td>0</td>\n",
       "      <td>https://i.ytimg.com/vi/Hb3rmh-_FMw/default.jpg</td>\n",
       "      <td>Education</td>\n",
       "      <td>USA</td>\n",
       "      <td>epilepsy warning watch and create short videos...</td>\n",
       "      <td></td>\n",
       "      <td>introducing the shorter side of youtube</td>\n",
       "      <td>YouTube</td>\n",
       "    </tr>\n",
       "  </tbody>\n",
       "</table>\n",
       "</div>"
      ],
      "text/plain": [
       "          video_id        published_at  category_id trending_date  view_count  \\\n",
       "15289  r7nYQXsxJdU 2020-10-25 01:40:31           24    2020-10-27           0   \n",
       "74267  Hb3rmh-_FMw 2021-08-10 15:04:25           27    2021-08-12           0   \n",
       "\n",
       "       likes  dislikes  comment_count  \\\n",
       "15289   4257       384            240   \n",
       "74267  18653      1545              0   \n",
       "\n",
       "                                       thumbnail_link  category_name country  \\\n",
       "15289  https://i.ytimg.com/vi/r7nYQXsxJdU/default.jpg  Entertainment     USA   \n",
       "74267  https://i.ytimg.com/vi/Hb3rmh-_FMw/default.jpg      Education     USA   \n",
       "\n",
       "                                             description  \\\n",
       "15289  hbcu homecoming 2020 is going down we welcome ...   \n",
       "74267  epilepsy warning watch and create short videos...   \n",
       "\n",
       "                                                    tags  \\\n",
       "15289  2 chainz desi banks lionel richie  lance gross...   \n",
       "74267                                                      \n",
       "\n",
       "                                    video_title      channel_title  \n",
       "15289  hbcu homecoming 2020 meet me on the yard  YouTube Originals  \n",
       "74267   introducing the shorter side of youtube            YouTube  "
      ]
     },
     "execution_count": 73,
     "metadata": {},
     "output_type": "execute_result"
    }
   ],
   "source": [
    "df[df.likes>df.view_count].sample(2)"
   ]
  },
  {
   "cell_type": "code",
   "execution_count": 74,
   "metadata": {
    "execution": {
     "iopub.execute_input": "2022-02-03T20:23:03.522788Z",
     "iopub.status.busy": "2022-02-03T20:23:03.522239Z",
     "iopub.status.idle": "2022-02-03T20:23:03.574749Z",
     "shell.execute_reply": "2022-02-03T20:23:03.574109Z",
     "shell.execute_reply.started": "2022-02-03T20:23:03.522746Z"
    }
   },
   "outputs": [],
   "source": [
    "df.drop(df[df.likes>df.view_count].index,inplace=True)"
   ]
  },
  {
   "cell_type": "markdown",
   "metadata": {},
   "source": [
    "Resetting index after dropping few rows"
   ]
  },
  {
   "cell_type": "code",
   "execution_count": 75,
   "metadata": {
    "execution": {
     "iopub.execute_input": "2022-02-03T20:23:03.576935Z",
     "iopub.status.busy": "2022-02-03T20:23:03.576365Z",
     "iopub.status.idle": "2022-02-03T20:23:03.581377Z",
     "shell.execute_reply": "2022-02-03T20:23:03.580748Z",
     "shell.execute_reply.started": "2022-02-03T20:23:03.576894Z"
    }
   },
   "outputs": [],
   "source": [
    "df.reset_index(drop=True, inplace=True)"
   ]
  },
  {
   "cell_type": "markdown",
   "metadata": {},
   "source": [
    "### Writing this cleaned file to compressed csv"
   ]
  },
  {
   "cell_type": "code",
   "execution_count": 76,
   "metadata": {
    "execution": {
     "iopub.execute_input": "2022-02-03T20:23:03.583331Z",
     "iopub.status.busy": "2022-02-03T20:23:03.582818Z",
     "iopub.status.idle": "2022-02-03T20:23:33.527785Z",
     "shell.execute_reply": "2022-02-03T20:23:33.527023Z",
     "shell.execute_reply.started": "2022-02-03T20:23:03.583291Z"
    }
   },
   "outputs": [],
   "source": [
    "df.set_index('video_id',inplace=True)\n",
    "df.to_csv('Clean_Dataset_final.csv.zip')"
   ]
  },
  {
   "cell_type": "code",
   "execution_count": 77,
   "metadata": {
    "execution": {
     "iopub.execute_input": "2022-02-03T20:23:33.529307Z",
     "iopub.status.busy": "2022-02-03T20:23:33.528935Z",
     "iopub.status.idle": "2022-02-03T20:23:33.533869Z",
     "shell.execute_reply": "2022-02-03T20:23:33.533299Z",
     "shell.execute_reply.started": "2022-02-03T20:23:33.529276Z"
    }
   },
   "outputs": [
    {
     "data": {
      "text/plain": [
       "(401912, 14)"
      ]
     },
     "execution_count": 77,
     "metadata": {},
     "output_type": "execute_result"
    }
   ],
   "source": [
    "df.shape"
   ]
  },
  {
   "cell_type": "markdown",
   "metadata": {},
   "source": [
    "### -------------------------------------Verified clean data for analysis---------------------------------------------------------"
   ]
  },
  {
   "cell_type": "markdown",
   "metadata": {},
   "source": [
    "\n",
    "### Now the Dataset looks clean for some exploration"
   ]
  },
  {
   "cell_type": "markdown",
   "metadata": {},
   "source": [
    "Resetting index back as we set index to Video_id for writing the file to csv"
   ]
  },
  {
   "cell_type": "code",
   "execution_count": 78,
   "metadata": {
    "execution": {
     "iopub.execute_input": "2022-02-03T20:23:33.535258Z",
     "iopub.status.busy": "2022-02-03T20:23:33.534779Z",
     "iopub.status.idle": "2022-02-03T20:23:33.547945Z",
     "shell.execute_reply": "2022-02-03T20:23:33.547016Z",
     "shell.execute_reply.started": "2022-02-03T20:23:33.535226Z"
    }
   },
   "outputs": [],
   "source": [
    "df.reset_index(inplace = True)"
   ]
  },
  {
   "cell_type": "code",
   "execution_count": 79,
   "metadata": {
    "execution": {
     "iopub.execute_input": "2022-02-03T20:23:33.549862Z",
     "iopub.status.busy": "2022-02-03T20:23:33.548954Z",
     "iopub.status.idle": "2022-02-03T20:23:33.567199Z",
     "shell.execute_reply": "2022-02-03T20:23:33.566594Z",
     "shell.execute_reply.started": "2022-02-03T20:23:33.549827Z"
    }
   },
   "outputs": [
    {
     "data": {
      "text/html": [
       "<div>\n",
       "<style scoped>\n",
       "    .dataframe tbody tr th:only-of-type {\n",
       "        vertical-align: middle;\n",
       "    }\n",
       "\n",
       "    .dataframe tbody tr th {\n",
       "        vertical-align: top;\n",
       "    }\n",
       "\n",
       "    .dataframe thead th {\n",
       "        text-align: right;\n",
       "    }\n",
       "</style>\n",
       "<table border=\"1\" class=\"dataframe\">\n",
       "  <thead>\n",
       "    <tr style=\"text-align: right;\">\n",
       "      <th></th>\n",
       "      <th>video_id</th>\n",
       "      <th>published_at</th>\n",
       "      <th>category_id</th>\n",
       "      <th>trending_date</th>\n",
       "      <th>view_count</th>\n",
       "      <th>likes</th>\n",
       "      <th>dislikes</th>\n",
       "      <th>comment_count</th>\n",
       "      <th>thumbnail_link</th>\n",
       "      <th>category_name</th>\n",
       "      <th>country</th>\n",
       "      <th>description</th>\n",
       "      <th>tags</th>\n",
       "      <th>video_title</th>\n",
       "      <th>channel_title</th>\n",
       "    </tr>\n",
       "  </thead>\n",
       "  <tbody>\n",
       "    <tr>\n",
       "      <th>0</th>\n",
       "      <td>3C66w5Z0ixs</td>\n",
       "      <td>2020-08-11 19:20:14</td>\n",
       "      <td>22</td>\n",
       "      <td>2020-08-12</td>\n",
       "      <td>1514614</td>\n",
       "      <td>156908</td>\n",
       "      <td>5855</td>\n",
       "      <td>35313</td>\n",
       "      <td>https://i.ytimg.com/vi/3C66w5Z0ixs/default.jpg</td>\n",
       "      <td>People &amp; Blogs</td>\n",
       "      <td>USA</td>\n",
       "      <td>subscribe to brawadis  follow me on social twi...</td>\n",
       "      <td>brawadis prank basketball skits ghost funny vi...</td>\n",
       "      <td>i asked her to be my girlfriend</td>\n",
       "      <td>Brawadis</td>\n",
       "    </tr>\n",
       "  </tbody>\n",
       "</table>\n",
       "</div>"
      ],
      "text/plain": [
       "      video_id        published_at  category_id trending_date  view_count  \\\n",
       "0  3C66w5Z0ixs 2020-08-11 19:20:14           22    2020-08-12     1514614   \n",
       "\n",
       "    likes  dislikes  comment_count  \\\n",
       "0  156908      5855          35313   \n",
       "\n",
       "                                   thumbnail_link   category_name country  \\\n",
       "0  https://i.ytimg.com/vi/3C66w5Z0ixs/default.jpg  People & Blogs     USA   \n",
       "\n",
       "                                         description  \\\n",
       "0  subscribe to brawadis  follow me on social twi...   \n",
       "\n",
       "                                                tags  \\\n",
       "0  brawadis prank basketball skits ghost funny vi...   \n",
       "\n",
       "                       video_title channel_title  \n",
       "0  i asked her to be my girlfriend      Brawadis  "
      ]
     },
     "execution_count": 79,
     "metadata": {},
     "output_type": "execute_result"
    }
   ],
   "source": [
    "df.head(1)"
   ]
  },
  {
   "cell_type": "markdown",
   "metadata": {},
   "source": [
    "## Cleaned Dataset Description"
   ]
  },
  {
   "cell_type": "markdown",
   "metadata": {},
   "source": [
    "<ol>\n",
    "    <li>video_id-------------------------\t Uniquely identifies each video</li>\n",
    "    <li>published_at-----------------------    Date and Time of video published</li>\n",
    "    <li>category_id------------------------    Id of category the video belongs to</li>\n",
    "    <li>trending_date----------------------    Date and time when the video got to Trending</li>\n",
    "    <li>view_count-------------------------    Number of views (cumulative)</li>\n",
    "    <li>likes------------------------------\tNumber of Likes(cumulative)</li>\n",
    "    <li>dislikes---------------------------    Number of dislikes(cumulative)</li>\n",
    "    <li>comment_count----------------------   Number of comments(cumulative)</li>\n",
    "    <li>category_name-----------------------\tName of category corresponding to Id</li>\n",
    "    <li>country----------------------------------    Country in which the video was trending</li>\n",
    "    <li>description-----------------------------   Description of video by the creator</li>\n",
    "    <li>tags---------------------------------------   Tags of the video by the creator</li>\n",
    "    <li>video_title------------------------------   Title of the video</li>\n",
    "    <li>channel_title--------------------------\tChannel Title of the video</li>\n",
    "    <li>thumbnail_link--------------------------\tlink of the video thumbnail</li>\n",
    "    \n",
    "</ol>\n"
   ]
  }
 ],
 "metadata": {
  "kernelspec": {
   "display_name": "Python 3.9.7 ('base')",
   "language": "python",
   "name": "python3"
  },
  "language_info": {
   "codemirror_mode": {
    "name": "ipython",
    "version": 3
   },
   "file_extension": ".py",
   "mimetype": "text/x-python",
   "name": "python",
   "nbconvert_exporter": "python",
   "pygments_lexer": "ipython3",
   "version": "3.9.7"
  },
  "vscode": {
   "interpreter": {
    "hash": "6521acac1a94e2883e1b811a73077b91a7a8703c6e651cdd8168604520023b2c"
   }
  }
 },
 "nbformat": 4,
 "nbformat_minor": 4
}
